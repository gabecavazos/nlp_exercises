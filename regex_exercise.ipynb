{
 "cells": [
  {
   "cell_type": "code",
   "execution_count": 1,
   "id": "e1e47f93-d81d-435e-90af-2b0fb8b03de7",
   "metadata": {},
   "outputs": [],
   "source": [
    "import pandas as pd\n",
    "import re # part of the python stdlib"
   ]
  },
  {
   "cell_type": "markdown",
   "id": "adb8e3b9-ffd5-4a45-b281-770ffd7fc020",
   "metadata": {},
   "source": [
    "# Write a function named is_vowel. It should accept a string as input and use a regular expression to determine if the passed string is a vowel. While not explicity mentioned in the lesson, you can treat the result of re.search as a boolean value that indicates whether or not the regular expression matches the given string."
   ]
  },
  {
   "cell_type": "code",
   "execution_count": 4,
   "id": "a6426190-efa7-49d7-ada9-ce7e0e30773d",
   "metadata": {},
   "outputs": [],
   "source": [
    "def is_vowel(string):\n",
    "    pattern = re.compile(\"[aeiouAEIOU]\")\n",
    "    return bool(pattern.search(string))"
   ]
  },
  {
   "cell_type": "code",
   "execution_count": 5,
   "id": "ce14c247-23c6-417d-a97e-1b079207cb19",
   "metadata": {},
   "outputs": [
    {
     "data": {
      "text/plain": [
       "True"
      ]
     },
     "execution_count": 5,
     "metadata": {},
     "output_type": "execute_result"
    }
   ],
   "source": [
    "is_vowel('woooooo')"
   ]
  },
  {
   "cell_type": "markdown",
   "id": "61cb508a-9011-4654-9305-335e36efd400",
   "metadata": {},
   "source": [
    "# Write a function named is_valid_username that accepts a string as input. A valid username starts with a lowercase letter, and only consists of lowercase letters, numbers, or the _ character. It should also be no longer than 32 characters. The function should return either True or False depending on whether the passed string is a valid username."
   ]
  },
  {
   "cell_type": "code",
   "execution_count": 13,
   "id": "eb4c8504-2046-40d8-8577-0d26874ecb88",
   "metadata": {},
   "outputs": [],
   "source": [
    "def is_valid_username(username):\n",
    "    pattern = r'^[a-z][a-z0-9_]{0,31}$'\n",
    "    return bool(re.match(pattern, username))"
   ]
  },
  {
   "cell_type": "code",
   "execution_count": 14,
   "id": "83f35ff6-dd74-4d81-b2aa-dca4270eb832",
   "metadata": {},
   "outputs": [
    {
     "data": {
      "text/plain": [
       "False"
      ]
     },
     "execution_count": 14,
     "metadata": {},
     "output_type": "execute_result"
    }
   ],
   "source": [
    ">>> is_valid_username('aaaaaaaaaaaaaaaaaaaaaaaaaaaaaaaaa')"
   ]
  },
  {
   "cell_type": "code",
   "execution_count": 16,
   "id": "b9b69d2b-48e8-4f20-b629-c68421bb9e31",
   "metadata": {},
   "outputs": [
    {
     "data": {
      "text/plain": [
       "True"
      ]
     },
     "execution_count": 16,
     "metadata": {},
     "output_type": "execute_result"
    }
   ],
   "source": [
    ">>> is_valid_username('codeup')"
   ]
  },
  {
   "cell_type": "code",
   "execution_count": 17,
   "id": "3966b7bc-e367-48db-8c9c-2d5a401f0039",
   "metadata": {},
   "outputs": [
    {
     "data": {
      "text/plain": [
       "False"
      ]
     },
     "execution_count": 17,
     "metadata": {},
     "output_type": "execute_result"
    }
   ],
   "source": [
    ">>> is_valid_username('Codeup')"
   ]
  },
  {
   "cell_type": "code",
   "execution_count": 18,
   "id": "d724ff7f-7d45-457f-835e-8d09aaba69e2",
   "metadata": {},
   "outputs": [
    {
     "data": {
      "text/plain": [
       "True"
      ]
     },
     "execution_count": 18,
     "metadata": {},
     "output_type": "execute_result"
    }
   ],
   "source": [
    ">>> is_valid_username('codeup123')"
   ]
  },
  {
   "cell_type": "code",
   "execution_count": 19,
   "id": "9b6eafe9-557f-4b37-b9c8-dc1c2b3b2daa",
   "metadata": {},
   "outputs": [
    {
     "data": {
      "text/plain": [
       "False"
      ]
     },
     "execution_count": 19,
     "metadata": {},
     "output_type": "execute_result"
    }
   ],
   "source": [
    ">>> is_valid_username('1codeup')"
   ]
  },
  {
   "cell_type": "markdown",
   "id": "f2f3b7cb-b048-4ede-8ad8-1e1c314cbef1",
   "metadata": {},
   "source": [
    "# Write a regular expression to capture phone numbers. It should match all of the following:"
   ]
  },
  {
   "cell_type": "code",
   "execution_count": 3,
   "id": "32c7136e-d342-4de2-b56a-6280d390cdc4",
   "metadata": {},
   "outputs": [],
   "source": [
    "#(210) 867 5309\n",
    "#+1 210.867.5309\n",
    "#867-5309\n",
    "#210-867-5309\n",
    "#"
   ]
  },
  {
   "cell_type": "code",
   "execution_count": 26,
   "id": "446cfce8-318d-44b5-b84b-af32beea75d0",
   "metadata": {},
   "outputs": [
    {
     "data": {
      "text/plain": [
       "['(210) 867 5309', '+1 210.867.5309', '210-867-5309']"
      ]
     },
     "execution_count": 26,
     "metadata": {},
     "output_type": "execute_result"
    }
   ],
   "source": [
    "regexp = r'\\+?1?\\s?\\(?\\d{3}\\)?[\\s\\-\\.]?\\d{3}[\\s\\-\\.]?\\d{4}'\n",
    "subject = '(210) 867 5309, +1 210.867.5309,867-5309,210-867-5309'\n",
    "re.findall(regexp, subject)"
   ]
  },
  {
   "cell_type": "code",
   "execution_count": 31,
   "id": "c3414e87-afbc-4cd0-85e3-7d03820f5ad3",
   "metadata": {},
   "outputs": [
    {
     "data": {
      "text/plain": [
       "['(210) 867 5309', '210.867.5309', '210-867-5309']"
      ]
     },
     "execution_count": 31,
     "metadata": {},
     "output_type": "execute_result"
    }
   ],
   "source": [
    "regexp = r'\\(?\\d{3}\\)?[\\s.-]?\\d{3}[\\s.-]?\\d{4}'\n",
    "subject = '(210) 867 5309, +1 210.867.5309,867-5309,210-867-5309'\n",
    "re.findall(regexp, subject)"
   ]
  },
  {
   "cell_type": "markdown",
   "id": "4e7cb948-cb31-4281-bd96-c562e670545f",
   "metadata": {},
   "source": [
    "Use regular expressions to convert the dates below to the standardized year-month-day format."
   ]
  },
  {
   "cell_type": "code",
   "execution_count": null,
   "id": "012fbc1a-32c3-4c9c-8844-abed37344c5c",
   "metadata": {},
   "outputs": [],
   "source": [
    "# 02/04/19\n",
    "# 02/05/19\n",
    "# 02/06/19\n",
    "# 02/07/19\n",
    "# 02/08/19\n",
    "# 02/09/19\n",
    "# 02/10/19\n"
   ]
  },
  {
   "cell_type": "code",
   "execution_count": 33,
   "id": "9b195d69-77d9-428f-9d0a-1b4124b327db",
   "metadata": {},
   "outputs": [
    {
     "data": {
      "text/plain": [
       "'2019-02-04,2019-02-05,2019-02-06,2019-02-07,2019-02-08,2019-02-09,2019-02-10'"
      ]
     },
     "execution_count": 33,
     "metadata": {},
     "output_type": "execute_result"
    }
   ],
   "source": [
    "dates = '02/04/19,02/05/19,02/06/19,02/07/19,02/08/19,02/09/19,02/10/19'\n",
    "\n",
    "re.sub(r'(\\d{2})/(\\d{2})/(\\d{2})', r'20\\3-\\1-\\2', dates)\n",
    "\n"
   ]
  },
  {
   "cell_type": "markdown",
   "id": "67fbf5bf-66df-4bfe-bc0a-cc6b27897597",
   "metadata": {},
   "source": [
    "# Write a regex to extract the various parts of these logfile lines:"
   ]
  },
  {
   "cell_type": "markdown",
   "id": "c37bed7f-6ffc-46db-83ae-9a1b9d435f8a",
   "metadata": {},
   "source": [
    "GET /api/v1/sales?page=86 [16/Apr/2019:193452+0000] HTTP/1.1 {200} 510348 \"python-requests/2.21.0\" 97.105.19.58\n",
    "\n",
    "POST /users_accounts/file-upload [16/Apr/2019:193452+0000] HTTP/1.1 {201} 42 \"User-Agent: Mozilla/5.0 (X11; Fedora; Fedora; Linux x86_64) AppleWebKit/537.36 (KHTML, like Gecko) Chrome/73.0.3683.86 Safari/537.36\" 97.105.19.58\n",
    "\n",
    "GET /api/v1/items?page=3 [16/Apr/2019:193453+0000] HTTP/1.1 {429} 3561 \"python-requests/2.21.0\" 97.105.19.58\n"
   ]
  },
  {
   "cell_type": "code",
   "execution_count": 37,
   "id": "93f0edab-f459-4cc8-82f9-715215f58b87",
   "metadata": {},
   "outputs": [],
   "source": [
    "logfile_lines = ['GET /api/v1/sales?page=86 [16/Apr/2019:193452+0000] HTTP/1.1 {200} 510348 \"python-requests/2.21.0\" 97.105.19.58',\n",
    "'POST /users_accounts/file-upload [16/Apr/2019:193452+0000] HTTP/1.1 {201} 42 \"User-Agent: Mozilla/5.0 (X11; Fedora; Fedora; Linux x86_64) AppleWebKit/537.36 (KHTML, like Gecko) Chrome/73.0.3683.86 Safari/537.36\" 97.105.19.58',\n",
    "'GET /api/v1/items?page=3 [16/Apr/2019:193453+0000] HTTP/1.1 {429} 3561 \"python-requests/2.21.0\" 97.105.19.58']\n"
   ]
  },
  {
   "cell_type": "code",
   "execution_count": 38,
   "id": "eb14f41b-8620-4180-9414-0cd294ed2c4c",
   "metadata": {},
   "outputs": [],
   "source": [
    "# Define a regular expression pattern to extract the parts of each logfile line\n",
    "pattern = r'^([A-Z]+)\\s+([^\\s]+)\\s+\\[([^\\]]+)\\]\\s+([^\\s]+)\\s+({\\d+})\\s+(\\d+)\\s+\"([^\"]+)\"\\s+([\\d\\.]+)$'\n",
    "\n",
    "# Create an empty list to store the extracted parts of each logfile line\n",
    "data = []\n",
    "\n",
    "# Loop over the logfile lines and extract the parts using re.match\n",
    "for line in logfile_lines:\n",
    "    match = re.match(pattern, line)\n",
    "    if match:\n",
    "        method, path, timestamp, protocol, status, size, user_agent, ip_address = match.groups()\n",
    "        data.append([method, path, timestamp, protocol, status, size, user_agent, ip_address])\n",
    "\n",
    "# Create a pandas DataFrame from the extracted data and assign column names\n",
    "df = pd.DataFrame(data, columns=['Method', 'Path', 'Timestamp', 'Protocol', 'Status', 'Size', 'User Agent', 'IP Address'])"
   ]
  },
  {
   "cell_type": "code",
   "execution_count": 39,
   "id": "c45ed950-bf28-4234-9f06-316c0e799e74",
   "metadata": {},
   "outputs": [
    {
     "data": {
      "text/html": [
       "<div>\n",
       "<style scoped>\n",
       "    .dataframe tbody tr th:only-of-type {\n",
       "        vertical-align: middle;\n",
       "    }\n",
       "\n",
       "    .dataframe tbody tr th {\n",
       "        vertical-align: top;\n",
       "    }\n",
       "\n",
       "    .dataframe thead th {\n",
       "        text-align: right;\n",
       "    }\n",
       "</style>\n",
       "<table border=\"1\" class=\"dataframe\">\n",
       "  <thead>\n",
       "    <tr style=\"text-align: right;\">\n",
       "      <th></th>\n",
       "      <th>Method</th>\n",
       "      <th>Path</th>\n",
       "      <th>Timestamp</th>\n",
       "      <th>Protocol</th>\n",
       "      <th>Status</th>\n",
       "      <th>Size</th>\n",
       "      <th>User Agent</th>\n",
       "      <th>IP Address</th>\n",
       "    </tr>\n",
       "  </thead>\n",
       "  <tbody>\n",
       "    <tr>\n",
       "      <th>0</th>\n",
       "      <td>GET</td>\n",
       "      <td>/api/v1/sales?page=86</td>\n",
       "      <td>16/Apr/2019:193452+0000</td>\n",
       "      <td>HTTP/1.1</td>\n",
       "      <td>{200}</td>\n",
       "      <td>510348</td>\n",
       "      <td>python-requests/2.21.0</td>\n",
       "      <td>97.105.19.58</td>\n",
       "    </tr>\n",
       "    <tr>\n",
       "      <th>1</th>\n",
       "      <td>POST</td>\n",
       "      <td>/users_accounts/file-upload</td>\n",
       "      <td>16/Apr/2019:193452+0000</td>\n",
       "      <td>HTTP/1.1</td>\n",
       "      <td>{201}</td>\n",
       "      <td>42</td>\n",
       "      <td>User-Agent: Mozilla/5.0 (X11; Fedora; Fedora; ...</td>\n",
       "      <td>97.105.19.58</td>\n",
       "    </tr>\n",
       "    <tr>\n",
       "      <th>2</th>\n",
       "      <td>GET</td>\n",
       "      <td>/api/v1/items?page=3</td>\n",
       "      <td>16/Apr/2019:193453+0000</td>\n",
       "      <td>HTTP/1.1</td>\n",
       "      <td>{429}</td>\n",
       "      <td>3561</td>\n",
       "      <td>python-requests/2.21.0</td>\n",
       "      <td>97.105.19.58</td>\n",
       "    </tr>\n",
       "  </tbody>\n",
       "</table>\n",
       "</div>"
      ],
      "text/plain": [
       "  Method                         Path                Timestamp  Protocol   \n",
       "0    GET        /api/v1/sales?page=86  16/Apr/2019:193452+0000  HTTP/1.1  \\\n",
       "1   POST  /users_accounts/file-upload  16/Apr/2019:193452+0000  HTTP/1.1   \n",
       "2    GET         /api/v1/items?page=3  16/Apr/2019:193453+0000  HTTP/1.1   \n",
       "\n",
       "  Status    Size                                         User Agent   \n",
       "0  {200}  510348                             python-requests/2.21.0  \\\n",
       "1  {201}      42  User-Agent: Mozilla/5.0 (X11; Fedora; Fedora; ...   \n",
       "2  {429}    3561                             python-requests/2.21.0   \n",
       "\n",
       "     IP Address  \n",
       "0  97.105.19.58  \n",
       "1  97.105.19.58  \n",
       "2  97.105.19.58  "
      ]
     },
     "execution_count": 39,
     "metadata": {},
     "output_type": "execute_result"
    }
   ],
   "source": [
    "df"
   ]
  }
 ],
 "metadata": {
  "kernelspec": {
   "display_name": "Python 3 (ipykernel)",
   "language": "python",
   "name": "python3"
  },
  "language_info": {
   "codemirror_mode": {
    "name": "ipython",
    "version": 3
   },
   "file_extension": ".py",
   "mimetype": "text/x-python",
   "name": "python",
   "nbconvert_exporter": "python",
   "pygments_lexer": "ipython3",
   "version": "3.9.13"
  }
 },
 "nbformat": 4,
 "nbformat_minor": 5
}
