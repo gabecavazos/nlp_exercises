{
 "cells": [
  {
   "cell_type": "markdown",
   "id": "d6bef974",
   "metadata": {},
   "source": [
    "# Acquire (Web-Scraping) Lesson"
   ]
  },
  {
   "cell_type": "code",
   "execution_count": 1,
   "id": "e934bc32",
   "metadata": {},
   "outputs": [],
   "source": [
    "from bs4 import BeautifulSoup\n",
    "\n",
    "import requests"
   ]
  },
  {
   "cell_type": "code",
   "execution_count": 2,
   "id": "0c06c7fe",
   "metadata": {},
   "outputs": [
    {
     "data": {
      "text/plain": [
       "<Response [200]>"
      ]
     },
     "execution_count": 2,
     "metadata": {},
     "output_type": "execute_result"
    }
   ],
   "source": [
    "url = 'https://www.example.com/'\n",
    "\n",
    "response = requests.get(url)\n",
    "response"
   ]
  },
  {
   "cell_type": "code",
   "execution_count": 3,
   "id": "125a21c4",
   "metadata": {},
   "outputs": [
    {
     "data": {
      "text/plain": [
       "'<!doctype html>\\n<html>\\n<head>\\n    <title>Example Domain</title>\\n\\n    <meta charset=\"utf-8\" />\\n    <meta http-equiv=\"Content-type\" content=\"text/html; charset=utf-8\" />\\n    <meta name=\"viewport\" content=\"width=device-width, initial-scale=1\" />\\n    <style type=\"text/css\">\\n    body {\\n        background-color: #f0f0f2;\\n        margin: 0;\\n        padding: 0;\\n        font-family: -apple-system, system-ui, BlinkMacSystemFont, \"Segoe UI\", \"Open Sans\", \"Helvetica Neue\", Helvetica, Arial, sans-serif;\\n        \\n    }\\n    div {\\n        width: 600px;\\n        margin: 5em auto;\\n        padding: 2em;\\n        background-color: #fdfdff;\\n        border-radius: 0.5em;\\n        box-shadow: 2px 3px 7px 2px rgba(0,0,0,0.02);\\n    }\\n    a:link, a:visited {\\n        color: #38488f;\\n        text-decoration: none;\\n    }\\n    @media (max-width: 700px) {\\n        div {\\n            margin: 0 auto;\\n            width: auto;\\n        }\\n    }\\n    </style>    \\n</head>\\n\\n<body>\\n<div>\\n    <h1>Example Domain</h1>\\n    <p>This domain is for use in illustrative examples in documents. You may use this\\n    domain in literature without prior coordination or asking for permission.</p>\\n    <p><a href=\"https://www.iana.org/domains/example\">More information...</a></p>\\n</div>\\n</body>\\n</html>\\n'"
      ]
     },
     "execution_count": 3,
     "metadata": {},
     "output_type": "execute_result"
    }
   ],
   "source": [
    "response.text"
   ]
  },
  {
   "cell_type": "code",
   "execution_count": 4,
   "id": "22701924",
   "metadata": {},
   "outputs": [
    {
     "data": {
      "text/plain": [
       "b'<!doctype html>\\n<html>\\n<head>\\n    <title>Example Domain</title>\\n\\n    <meta charset=\"utf-8\" />\\n    <meta http-equiv=\"Content-type\" content=\"text/html; charset=utf-8\" />\\n    <meta name=\"viewport\" content=\"width=device-width, initial-scale=1\" />\\n    <style type=\"text/css\">\\n    body {\\n        background-color: #f0f0f2;\\n        margin: 0;\\n        padding: 0;\\n        font-family: -apple-system, system-ui, BlinkMacSystemFont, \"Segoe UI\", \"Open Sans\", \"Helvetica Neue\", Helvetica, Arial, sans-serif;\\n        \\n    }\\n    div {\\n        width: 600px;\\n        margin: 5em auto;\\n        padding: 2em;\\n        background-color: #fdfdff;\\n        border-radius: 0.5em;\\n        box-shadow: 2px 3px 7px 2px rgba(0,0,0,0.02);\\n    }\\n    a:link, a:visited {\\n        color: #38488f;\\n        text-decoration: none;\\n    }\\n    @media (max-width: 700px) {\\n        div {\\n            margin: 0 auto;\\n            width: auto;\\n        }\\n    }\\n    </style>    \\n</head>\\n\\n<body>\\n<div>\\n    <h1>Example Domain</h1>\\n    <p>This domain is for use in illustrative examples in documents. You may use this\\n    domain in literature without prior coordination or asking for permission.</p>\\n    <p><a href=\"https://www.iana.org/domains/example\">More information...</a></p>\\n</div>\\n</body>\\n</html>\\n'"
      ]
     },
     "execution_count": 4,
     "metadata": {},
     "output_type": "execute_result"
    }
   ],
   "source": [
    "response.content"
   ]
  },
  {
   "cell_type": "code",
   "execution_count": 5,
   "id": "99861e9c",
   "metadata": {},
   "outputs": [
    {
     "data": {
      "text/plain": [
       "<!DOCTYPE html>\n",
       "\n",
       "<html>\n",
       "<head>\n",
       "<title>Example Domain</title>\n",
       "<meta charset=\"utf-8\"/>\n",
       "<meta content=\"text/html; charset=utf-8\" http-equiv=\"Content-type\"/>\n",
       "<meta content=\"width=device-width, initial-scale=1\" name=\"viewport\"/>\n",
       "<style type=\"text/css\">\n",
       "    body {\n",
       "        background-color: #f0f0f2;\n",
       "        margin: 0;\n",
       "        padding: 0;\n",
       "        font-family: -apple-system, system-ui, BlinkMacSystemFont, \"Segoe UI\", \"Open Sans\", \"Helvetica Neue\", Helvetica, Arial, sans-serif;\n",
       "        \n",
       "    }\n",
       "    div {\n",
       "        width: 600px;\n",
       "        margin: 5em auto;\n",
       "        padding: 2em;\n",
       "        background-color: #fdfdff;\n",
       "        border-radius: 0.5em;\n",
       "        box-shadow: 2px 3px 7px 2px rgba(0,0,0,0.02);\n",
       "    }\n",
       "    a:link, a:visited {\n",
       "        color: #38488f;\n",
       "        text-decoration: none;\n",
       "    }\n",
       "    @media (max-width: 700px) {\n",
       "        div {\n",
       "            margin: 0 auto;\n",
       "            width: auto;\n",
       "        }\n",
       "    }\n",
       "    </style>\n",
       "</head>\n",
       "<body>\n",
       "<div>\n",
       "<h1>Example Domain</h1>\n",
       "<p>This domain is for use in illustrative examples in documents. You may use this\n",
       "    domain in literature without prior coordination or asking for permission.</p>\n",
       "<p><a href=\"https://www.iana.org/domains/example\">More information...</a></p>\n",
       "</div>\n",
       "</body>\n",
       "</html>"
      ]
     },
     "execution_count": 5,
     "metadata": {},
     "output_type": "execute_result"
    }
   ],
   "source": [
    "soup = BeautifulSoup(response.content, 'html.parser')\n",
    "soup"
   ]
  },
  {
   "cell_type": "code",
   "execution_count": 6,
   "id": "45365f50",
   "metadata": {},
   "outputs": [
    {
     "data": {
      "text/plain": [
       "<h1>Example Domain</h1>"
      ]
     },
     "execution_count": 6,
     "metadata": {},
     "output_type": "execute_result"
    }
   ],
   "source": [
    "soup.h1"
   ]
  },
  {
   "cell_type": "code",
   "execution_count": 7,
   "id": "2c1cbcf2",
   "metadata": {},
   "outputs": [
    {
     "data": {
      "text/plain": [
       "'Example Domain'"
      ]
     },
     "execution_count": 7,
     "metadata": {},
     "output_type": "execute_result"
    }
   ],
   "source": [
    "soup.h1.text"
   ]
  },
  {
   "cell_type": "code",
   "execution_count": 8,
   "id": "4a12b988",
   "metadata": {},
   "outputs": [
    {
     "data": {
      "text/plain": [
       "<p>This domain is for use in illustrative examples in documents. You may use this\n",
       "    domain in literature without prior coordination or asking for permission.</p>"
      ]
     },
     "execution_count": 8,
     "metadata": {},
     "output_type": "execute_result"
    }
   ],
   "source": [
    "soup.p"
   ]
  },
  {
   "cell_type": "code",
   "execution_count": 9,
   "id": "8f5c2750",
   "metadata": {},
   "outputs": [
    {
     "data": {
      "text/plain": [
       "<p>This domain is for use in illustrative examples in documents. You may use this\n",
       "    domain in literature without prior coordination or asking for permission.</p>"
      ]
     },
     "execution_count": 9,
     "metadata": {},
     "output_type": "execute_result"
    }
   ],
   "source": [
    "soup.find('p')"
   ]
  },
  {
   "cell_type": "code",
   "execution_count": 10,
   "id": "c113fe60",
   "metadata": {},
   "outputs": [
    {
     "data": {
      "text/plain": [
       "[<p>This domain is for use in illustrative examples in documents. You may use this\n",
       "     domain in literature without prior coordination or asking for permission.</p>,\n",
       " <p><a href=\"https://www.iana.org/domains/example\">More information...</a></p>]"
      ]
     },
     "execution_count": 10,
     "metadata": {},
     "output_type": "execute_result"
    }
   ],
   "source": [
    "list_of_p_elements = soup.find_all('p')\n",
    "list_of_p_elements"
   ]
  },
  {
   "cell_type": "code",
   "execution_count": 11,
   "id": "96833390",
   "metadata": {},
   "outputs": [
    {
     "name": "stdout",
     "output_type": "stream",
     "text": [
      "None\n",
      "<a href=\"https://www.iana.org/domains/example\">More information...</a>\n"
     ]
    }
   ],
   "source": [
    "for element in list_of_p_elements:\n",
    "    print(element.a)"
   ]
  },
  {
   "cell_type": "markdown",
   "id": "02cdb761",
   "metadata": {},
   "source": [
    "## Using sleep"
   ]
  },
  {
   "cell_type": "code",
   "execution_count": 12,
   "id": "f45eb208",
   "metadata": {},
   "outputs": [
    {
     "name": "stdout",
     "output_type": "stream",
     "text": [
      "Hello\n",
      "World\n"
     ]
    }
   ],
   "source": [
    "import time\n",
    "\n",
    "print(\"Hello\")\n",
    "time.sleep(5)\n",
    "print(\"World\")"
   ]
  },
  {
   "cell_type": "markdown",
   "id": "a693e255",
   "metadata": {},
   "source": [
    "## NY Times Website"
   ]
  },
  {
   "cell_type": "code",
   "execution_count": 13,
   "id": "3d8f8979",
   "metadata": {},
   "outputs": [
    {
     "data": {
      "text/plain": [
       "<Response [200]>"
      ]
     },
     "execution_count": 13,
     "metadata": {},
     "output_type": "execute_result"
    }
   ],
   "source": [
    "response = requests.get('https://www.nytimes.com/')\n",
    "response"
   ]
  },
  {
   "cell_type": "code",
   "execution_count": null,
   "id": "afcae5bf",
   "metadata": {},
   "outputs": [],
   "source": [
    "soup = BeautifulSoup(response.content, 'html.parser')\n",
    "soup"
   ]
  },
  {
   "cell_type": "code",
   "execution_count": 15,
   "id": "acee5bd0",
   "metadata": {},
   "outputs": [
    {
     "data": {
      "text/plain": [
       "[<h2 class=\"svelte-1oon4gy\"><a class=\"svelte-1oon4gy\" href=\"https://www.nytimes.com/interactive/2023/us/covid-cases.html\">Tracking Covid-19 ›</a></h2>,\n",
       " <h2 class=\"css-1dv1kvn\" id=\"site-index-label\">Site Index</h2>,\n",
       " <h2 class=\"css-1dv1kvn\">Site Information Navigation</h2>]"
      ]
     },
     "execution_count": 15,
     "metadata": {},
     "output_type": "execute_result"
    }
   ],
   "source": [
    "soup.find_all('h2')"
   ]
  },
  {
   "cell_type": "code",
   "execution_count": null,
   "id": "8f74d3ff",
   "metadata": {},
   "outputs": [],
   "source": [
    "soup.find_all('h3')"
   ]
  },
  {
   "cell_type": "code",
   "execution_count": null,
   "id": "6fb64472",
   "metadata": {},
   "outputs": [],
   "source": [
    "soup.find_all('a')"
   ]
  },
  {
   "cell_type": "code",
   "execution_count": 21,
   "id": "3a6493d8",
   "metadata": {},
   "outputs": [
    {
     "data": {
      "text/plain": [
       "[<a aria-hidden=\"false\" class=\"css-9mylee\" data-uri=\"nyt://legacycollection/9c1e9fcc-a06d-5f3b-aeb0-bdce6fce315b\" href=\"https://www.nytimes.com/live/2023/05/09/us/debt-ceiling-biden-mccarthy\"><h3 class=\"indicate-hover css-vnb41v\">Debt Ceiling Talks</h3><div class=\"css-1xlo3nw\"><time aria-hidden=\"true\" class=\"css-12i6afj\" datetime=\"2023-05-09T21:10:15.232Z\"><div class=\"css-ki347z\"><span class=\"css-1stvlmo\" data-time=\"abs\">May 9, 2023, 5:10 p.m. ET</span><span class=\"css-kpxlkr\" data-time=\"rel\"></span></div></time><span aria-live=\"polite\" class=\"css-1dv1kvn\"></span></div></a>,\n",
       " <a aria-hidden=\"false\" class=\"css-9mylee\" data-uri=\"nyt://legacycollection/abee519a-9959-5c52-8d7f-1b1ad51155c0\" href=\"https://www.nytimes.com/live/2023/05/09/nyregion/trump-carroll-rape-trial-verdict\"><h3 class=\"indicate-hover css-vnb41v\">Trump-Carroll Trial</h3><div class=\"css-1xlo3nw\"><time aria-hidden=\"true\" class=\"css-12i6afj\" datetime=\"2023-05-09T21:08:29.379Z\"><div class=\"css-ki347z\"><span class=\"css-1stvlmo\" data-time=\"abs\">May 9, 2023, 5:08 p.m. ET</span><span class=\"css-kpxlkr\" data-time=\"rel\"></span></div></time><span aria-live=\"polite\" class=\"css-1dv1kvn\"></span></div></a>,\n",
       " <a aria-hidden=\"false\" class=\"css-9mylee\" data-uri=\"nyt://legacycollection/abee519a-9959-5c52-8d7f-1b1ad51155c0\" href=\"https://www.nytimes.com/live/2023/05/09/nyregion/trump-carroll-rape-trial-verdict\"><h1 class=\"story-wrapper indicate-hover css-1r48xgp\">Trump Is Found Liable for Sexual Abuse and Defamation</h1></a>,\n",
       " <a aria-hidden=\"false\" class=\"css-9mylee\" data-uri=\"nyt://legacycollection/abee519a-9959-5c52-8d7f-1b1ad51155c0\" href=\"https://www.nytimes.com/live/2023/05/09/nyregion/trump-carroll-rape-trial-verdict\"><figure class=\"css-1uk1gs8\"><div class=\"css-ho9dtj\"><picture class=\"css-hdqqnp\"><source class=\"css-hdqqnp\" media=\"screen and (max-width: 600px)\" srcset=\"https://static01.nyt.com/images/2023/05/08/nyregion/live-blog-20230508-trump-carroll-rape-trial-header/live-blog-20230508-trump-carroll-rape-trial-header-threeByTwoSmallAt2X.jpg?format=pjpg&amp;quality=75&amp;auto=webp&amp;disable=upscale 1x, https://static01.nyt.com/images/2023/05/08/nyregion/live-blog-20230508-trump-carroll-rape-trial-header/live-blog-20230508-trump-carroll-rape-trial-header-threeByTwoSmallAt2X.jpg?format=pjpg&amp;quality=75&amp;auto=webp&amp;disable=upscale 2x\"/><img alt=\"Closeups of Donald Trump and E. Jean Carroll.\" class=\"css-hdqqnp\" src=\"https://static01.nyt.com/images/2023/05/08/nyregion/live-blog-20230508-trump-carroll-rape-trial-header/live-blog-20230508-trump-carroll-rape-trial-header-threeByTwoSmallAt2X.jpg?format=pjpg&amp;quality=75&amp;auto=webp&amp;disable=upscale\"/><noscript><img alt=\"Closeups of Donald Trump and E. Jean Carroll.\" class=\"css-122y91a\" src=\"https://static01.nyt.com/images/2023/05/08/nyregion/live-blog-20230508-trump-carroll-rape-trial-header/live-blog-20230508-trump-carroll-rape-trial-header-threeByTwoSmallAt2X.jpg?format=pjpg&amp;quality=75&amp;auto=webp&amp;disable=upscale\"/></noscript></picture></div><figcaption aria-hidden=\"true\" class=\"css-1p5yz2j\"><span class=\"css-1j306sm\">Sophie Park for The New York Times, Anna Watts for The New York Times</span></figcaption></figure><div class=\"css-197v62q\"></div><div><div class=\"css-xdandi\"><h5 class=\"css-1txq2hu\">LIVE<time aria-hidden=\"true\" class=\"css-16lxk39\" datetime=\"2023-05-09T21:08:29.379Z\"><div class=\"css-ki347z\"><span class=\"css-1stvlmo\" data-time=\"abs\">May 9, 2023, 5:08 p.m. ET</span><span class=\"css-kpxlkr\" data-time=\"rel\"></span></div></time><span aria-live=\"polite\" class=\"css-1dv1kvn\"></span></h5><h3 class=\"indicate-hover css-1ekzmg\">Jury Awards $5 Million to E. Jean Carroll in Civil Case</h3></div><div class=\"css-197v62q\"></div><ul class=\"css-seo8xh\"><li class=\"summary-class\">More than a dozen women have accused Mr. Trump of sexual misconduct, but Ms. Carroll’s case is the first such claim to be tested before a jury.</li><li class=\"summary-class\">The jury found that Ms. Carroll did not prove Mr. Trump had raped her, but it did determine that he had sexually abused her.</li></ul></div><p class=\"css-ikai89\"> </p></a>,\n",
       " <a aria-hidden=\"false\" class=\"css-9mylee\" data-uri=\"nyt://article/0524cad3-7bf9-50f4-b632-6de80793b73f\" href=\"https://www.nytimes.com/live/2023/05/09/nyregion/trump-carroll-rape-trial-verdict/e-jean-carroll-described-an-assault-in-minute-detail\"><div><div class=\"css-xdandi\"><h3 class=\"indicate-hover css-66vf3i\">E. Jean Carroll described an assault in minute detail.</h3></div></div></a>,\n",
       " <a aria-hidden=\"false\" class=\"css-9mylee\" data-uri=\"nyt://article/c62f96a7-8646-5eb0-842f-87d414a378f9\" href=\"https://www.nytimes.com/live/2023/05/09/nyregion/trump-carroll-rape-trial-verdict/heres-a-closer-look-at-the-5-million-in-damages-that-the-jury-awarded-carroll\"><div><div class=\"css-xdandi\"><h3 class=\"indicate-hover css-66vf3i\">Here’s a closer look at the $5 million in damages that the jury awarded Ms. Carroll.</h3></div></div></a>,\n",
       " <a aria-hidden=\"false\" class=\"css-9mylee\" data-uri=\"nyt://legacycollection/9c1e9fcc-a06d-5f3b-aeb0-bdce6fce315b\" href=\"https://www.nytimes.com/live/2023/05/09/us/debt-ceiling-biden-mccarthy\"><div><div class=\"css-xdandi\"><h5 class=\"css-1txq2hu\">LIVE<time aria-hidden=\"true\" class=\"css-16lxk39\" datetime=\"2023-05-09T21:10:15.232Z\"><div class=\"css-ki347z\"><span class=\"css-1stvlmo\" data-time=\"abs\">May 9, 2023, 5:10 p.m. ET</span><span class=\"css-kpxlkr\" data-time=\"rel\"></span></div></time><span aria-live=\"polite\" class=\"css-1dv1kvn\"></span></h5><h3 class=\"indicate-hover css-on97le\">Biden and McCarthy Meet for Debt Limit Talks</h3></div><div class=\"css-197v62q\"></div><p class=\"summary-class css-1azn4ub\">President Biden, Speaker Kevin McCarthy and other lawmakers are meeting at the White House. Neither side expects a breakthrough.</p></div><p class=\"css-ikai89\"> </p><div class=\"css-1xnr9ii\"></div><figure class=\"css-1uk1gs8\"><div class=\"css-ho9dtj\"><picture class=\"css-hdqqnp\"><source class=\"css-hdqqnp\" media=\"screen and (max-width: 600px)\"/><img alt=\"Speaker Kevin McCarthy addressing reporters at the Capitol on Tuesday.\" class=\"css-dzl7b5\" loading=\"lazy\"/><noscript><img alt=\"Speaker Kevin McCarthy addressing reporters at the Capitol on Tuesday.\" class=\"css-122y91a\" src=\"https://static01.nyt.com/images/2023/05/09/multimedia/09debt-ceiling-header-310pm-hkzj/09debt-ceiling-header-310pm-hkzj-threeByTwoSmallAt2X.jpg?format=pjpg&amp;quality=75&amp;auto=webp&amp;disable=upscale\"/></noscript></picture></div><figcaption aria-hidden=\"true\" class=\"css-1p5yz2j\"><span class=\"css-1j306sm\">Kenny Holston/The New York Times</span></figcaption></figure></a>,\n",
       " <a aria-hidden=\"false\" class=\"css-9mylee\" data-uri=\"nyt://article/bf7b7376-6fcc-577a-8d97-0e2d037c2199\" href=\"https://www.nytimes.com/2023/05/09/business/markets-investors-debt-ceiling.html\"><div><div class=\"css-xdandi\"><h3 class=\"indicate-hover css-66vf3i\">Stocks aren’t showing signs of panic about the debt ceiling crisis, but anxiety is creeping into other markets.</h3></div><p class=\"css-1esztn\">3 min read</p></div></a>,\n",
       " <a aria-hidden=\"false\" class=\"css-9mylee\" data-uri=\"nyt://legacycollection/acecee3c-b924-5bd0-81f1-84d42a2693ff\" href=\"https://www.nytimes.com/live/2023/05/09/world/russia-ukraine-news\"><div><div class=\"css-xdandi\"><h3 class=\"indicate-hover css-on97le\">Putin Remains Defiant Toward West at Muted Victory Day Events</h3></div><div class=\"css-197v62q\"></div><p class=\"summary-class css-1azn4ub\">President Vladimir Putin gave an address from Moscow’s Red Square hours after Ukraine’s air defenses intercepted Russian missiles headed for Kyiv.</p></div><p class=\"css-ikai89\"> </p></a>,\n",
       " <a aria-hidden=\"false\" class=\"css-9mylee\" data-uri=\"nyt://article/9d7dee6a-1a73-52c0-860f-8b3201f9524c\" href=\"https://www.nytimes.com/live/2023/05/09/world/russia-ukraine-news/the-us-is-providing-1-2-billion-for-ukraine-to-buy-air-defense-missiles-and-other-crucial-equipment\"><div><div class=\"css-xdandi\"><h3 class=\"indicate-hover css-66vf3i\">The U.S. is providing $1.2 billion for Ukraine to buy air defense missiles and other crucial equipment.</h3></div></div></a>,\n",
       " <a aria-hidden=\"false\" class=\"css-9mylee\" data-uri=\"nyt://article/e4ab6cb2-adb3-5f0d-b942-43d3141dfad4\" href=\"https://www.nytimes.com/2023/05/09/health/breast-cancer-mammograms.html\"><div><div class=\"css-xdandi\"><h3 class=\"indicate-hover css-on97le\">Women Should Get Mammograms at 40, Panel Says, Reversing Its Guidance</h3></div><div class=\"css-197v62q\"></div><p class=\"summary-class css-1azn4ub\">The guidance from a U.S. panel of health experts comes as breast cancer diagnoses rise among younger women and mortality rates among Black women remain high.</p><p class=\"css-1esztn\">5 min read</p></div><div class=\"css-1xnr9ii\"></div><figure class=\"css-1uk1gs8\"><div class=\"css-wne2ji\"><picture class=\"css-hdqqnp\"><source class=\"css-hdqqnp\" media=\"screen and (min-width: 1px)\"/><img alt=\"A nurse guides a patient, her back facing the camera, into a mammogram machine in a mobile mammogram trailer.\" class=\"css-dzl7b5\" loading=\"lazy\"/><noscript><img alt=\"A nurse guides a patient, her back facing the camera, into a mammogram machine in a mobile mammogram trailer.\" class=\"css-122y91a\" src=\"https://static01.nyt.com/images/2023/05/09/science/09mammograms/09mammograms-square640-v2.jpg?format=pjpg&amp;quality=75&amp;auto=webp&amp;disable=upscale\"/></noscript></picture></div><figcaption aria-hidden=\"true\" class=\"css-1p5yz2j\"><span class=\"css-1j306sm\">Miguel Roberts/The Brownsville Herald, via Associated Press</span></figcaption></figure></a>,\n",
       " <a aria-hidden=\"false\" class=\"css-9mylee\" data-uri=\"nyt://article/487c2fcb-cf02-5b56-a6b0-56efc39b0178\" href=\"https://www.nytimes.com/2023/05/09/us/politics/william-burns-cia-biden.html\"><div><div class=\"css-xdandi\"><h3 class=\"indicate-hover css-on97le\">William Burns, a C.I.A. Spymaster With Unusual Powers</h3></div><div class=\"css-197v62q\"></div><p class=\"summary-class css-1azn4ub\">Mr. Burns, a key figure in bolstering the Biden administration’s support for Ukraine, has amassed influence beyond most previous spy chiefs.</p><p class=\"css-1esztn\">7 min read</p></div><div class=\"css-1xnr9ii\"></div><figure class=\"css-1uk1gs8\"><div class=\"css-wne2ji\"><picture class=\"css-hdqqnp\"><source class=\"css-hdqqnp\" media=\"screen and (min-width: 1px)\"/><img alt=\"William J. Burns, wearing a gray suit and green tie, speaks with his hand raised before a House committee.\" class=\"css-dzl7b5\" loading=\"lazy\"/><noscript><img alt=\"William J. Burns, wearing a gray suit and green tie, speaks with his hand raised before a House committee.\" class=\"css-122y91a\" src=\"https://static01.nyt.com/images/2023/05/08/multimedia/08dc-burns1-wbmv/08dc-burns1-wbmv-square640-v5.jpg?format=pjpg&amp;quality=75&amp;auto=webp&amp;disable=upscale\"/></noscript></picture></div><figcaption aria-hidden=\"true\" class=\"css-1p5yz2j\"><span class=\"css-1j306sm\">Anna Rose Layden for The New York Times</span></figcaption></figure></a>,\n",
       " <a aria-hidden=\"false\" class=\"css-9mylee\" data-uri=\"nyt://article/2f74cbeb-b1f0-5e66-8b26-fd419f7d8976\" href=\"https://www.nytimes.com/2023/05/09/us/desantis-florida-social-studies-textbooks.html\"><div><div class=\"css-xdandi\"><h3 class=\"indicate-hover css-on97le\">Florida Rejects Several Social Studies Books and Forces Changes in Others</h3></div><div class=\"css-197v62q\"></div><p class=\"summary-class css-1azn4ub\">The state objected to content on topics like the Black Lives Matter movement, socialism and why some citizens “take a knee” during the national anthem.</p><p class=\"css-1esztn\">4 min read</p></div><div class=\"css-1xnr9ii\"></div><figure class=\"css-1uk1gs8\"><div class=\"css-ho9dtj\"><picture class=\"css-hdqqnp\"><source class=\"css-hdqqnp\" media=\"screen and (max-width: 600px)\"/><img alt=\"Governor DeSantis stands behind a podium, and in front of a giant backdrop of the Florida state flag.\" class=\"css-dzl7b5\" loading=\"lazy\"/><noscript><img alt=\"Governor DeSantis stands behind a podium, and in front of a giant backdrop of the Florida state flag.\" class=\"css-122y91a\" src=\"https://static01.nyt.com/images/2023/05/09/multimedia/09nat-fl-socialstudies-cgmp/09nat-fl-socialstudies-cgmp-threeByTwoSmallAt2X.jpg?format=pjpg&amp;quality=75&amp;auto=webp&amp;disable=upscale\"/></noscript></picture></div><figcaption aria-hidden=\"true\" class=\"css-1p5yz2j\"><span class=\"css-1j306sm\">Rebecca Blackwell/Associated Press</span></figcaption></figure></a>,\n",
       " <a aria-hidden=\"false\" class=\"css-9mylee\" data-uri=\"nyt://article/9a3ff2f6-634a-5074-96a9-9fd976ca01c3\" href=\"https://www.nytimes.com/2023/05/09/technology/cellular-china-us-zte-huawei.html\"><div><div class=\"css-xdandi\"><h3 class=\"indicate-hover css-on97le\">‘Rip and Replace’: The Tech Cold War Is Upending Wireless Carriers</h3></div><div class=\"css-197v62q\"></div><p class=\"summary-class css-1azn4ub\">As China and the U.S. jockey for tech primacy, wireless carriers in dozens of states are tearing out Chinese equipment — a costly, difficult process.</p><p class=\"css-1esztn\">5 min read</p></div><div class=\"css-1xnr9ii\"></div><figure class=\"css-1uk1gs8\"><div class=\"css-wne2ji\"><picture class=\"css-hdqqnp\"><source class=\"css-hdqqnp\" media=\"screen and (min-width: 1px)\"/><img alt=\"A low angle of a cellphone tower against a blue sky.\" class=\"css-dzl7b5\" loading=\"lazy\"/><noscript><img alt=\"A low angle of a cellphone tower against a blue sky.\" class=\"css-122y91a\" src=\"https://static01.nyt.com/images/2023/05/05/multimedia/00rip-replace-01-ljvk/00rip-replace-01-ljvk-square640-v2.jpg?format=pjpg&amp;quality=75&amp;auto=webp&amp;disable=upscale\"/></noscript></picture></div><figcaption aria-hidden=\"true\" class=\"css-1p5yz2j\"><span class=\"css-1j306sm\">Charity Rachelle for The New York Times</span></figcaption></figure></a>,\n",
       " <a aria-hidden=\"false\" class=\"css-9mylee\" data-uri=\"nyt://article/f4f57a4e-b17c-580c-b7cd-47fcb5449354\" href=\"https://www.nytimes.com/2023/05/09/sports/striker-samoyed-westminster-dog-show.html\"><div><div class=\"css-xdandi\"><h3 class=\"indicate-hover css-1ozlsow\">Striker Will Never Know He Wasn’t Best in Show</h3></div><div class=\"css-197v62q\"></div><p class=\"summary-class css-1azn4ub\">A blindingly white Samoyed fell just short of the top spot at Westminster in consecutive years, but is now busy playing and posing in retirement.</p><p class=\"css-1esztn\">5 min read</p></div><div class=\"css-1xnr9ii\"></div><figure class=\"css-1uk1gs8\"><div class=\"css-1k5swdl\"><div class=\"css-5qsr3h\"><div class=\"slideshow-animate css-17drwyv\"><div class=\"slideshow-animate css-y3q9q4\"></div><div class=\"css-wne2ji\"><picture class=\"slideshow-animate css-e5vw35\"><source class=\"slideshow-animate css-e5vw35\" media=\"screen and (min-width: 1px)\"/><img alt=\"\" class=\"slideshow-animate css-3kzcvh\" loading=\"lazy\"/><noscript><img alt=\"\" class=\"css-122y91a\" src=\"https://static01.nyt.com/images/2023/05/09/multimedia/09dogshow-samoyed-fader1-vtqh/09dogshow-samoyed-fader1-vtqh-square640.jpg?format=pjpg&amp;quality=75&amp;auto=webp&amp;disable=upscale\"/></noscript></picture></div><div class=\"slideshow-animate css-12kq0ez\">May Truong for The New York Times</div></div><div class=\"css-1iubrw4 slideshow-animate\"><div class=\"slideshow-animate css-y3q9q4\"></div><div class=\"css-wne2ji\"><picture class=\"slideshow-animate css-e5vw35\"><source class=\"slideshow-animate css-e5vw35\" media=\"screen and (min-width: 1px)\"/><img alt=\"\" class=\"slideshow-animate css-3kzcvh\" loading=\"lazy\"/><noscript><img alt=\"\" class=\"css-122y91a\" src=\"https://static01.nyt.com/images/2023/05/08/multimedia/09dogshow-samoyed-fader2/09dogshow-samoyed-fader2-square640.jpg?format=pjpg&amp;quality=75&amp;auto=webp&amp;disable=upscale\"/></noscript></picture></div><div class=\"slideshow-animate css-12kq0ez\">May Truong for The New York Times</div></div><div class=\"css-1iubrw4 slideshow-animate\"><div class=\"slideshow-animate css-y3q9q4\"></div><div class=\"css-wne2ji\"><picture class=\"slideshow-animate css-e5vw35\"><source class=\"slideshow-animate css-e5vw35\" media=\"screen and (min-width: 1px)\"/><img alt=\"\" class=\"slideshow-animate css-3kzcvh\" loading=\"lazy\"/><noscript><img alt=\"\" class=\"css-122y91a\" src=\"https://static01.nyt.com/images/2023/05/08/multimedia/09dogshow-samoyed-fader3/09dogshow-samoyed-fader3-square640.jpg?format=pjpg&amp;quality=75&amp;auto=webp&amp;disable=upscale\"/></noscript></picture></div><div class=\"slideshow-animate css-12kq0ez\">May Truong for The New York Times</div></div><div class=\"css-1iubrw4 slideshow-animate\"><div class=\"slideshow-animate css-y3q9q4\"></div><div class=\"css-wne2ji\"><picture class=\"slideshow-animate css-e5vw35\"><source class=\"slideshow-animate css-e5vw35\" media=\"screen and (min-width: 1px)\"/><img alt=\"\" class=\"slideshow-animate css-3kzcvh\" loading=\"lazy\"/><noscript><img alt=\"\" class=\"css-122y91a\" src=\"https://static01.nyt.com/images/2023/05/08/multimedia/09dogshow-samoyed-fader6/09dogshow-samoyed-fader6-square640.jpg?format=pjpg&amp;quality=75&amp;auto=webp&amp;disable=upscale\"/></noscript></picture></div><div class=\"slideshow-animate css-12kq0ez\">May Truong for The New York Times</div></div><div class=\"css-1iubrw4 slideshow-animate\"><div class=\"slideshow-animate css-y3q9q4\"></div><div class=\"css-wne2ji\"><picture class=\"slideshow-animate css-e5vw35\"><source class=\"slideshow-animate css-e5vw35\" media=\"screen and (min-width: 1px)\"/><img alt=\"\" class=\"slideshow-animate css-3kzcvh\" loading=\"lazy\"/><noscript><img alt=\"\" class=\"css-122y91a\" src=\"https://static01.nyt.com/images/2023/05/08/multimedia/09dogshow-samoyed-fader5/09dogshow-samoyed-fader5-square640.jpg?format=pjpg&amp;quality=75&amp;auto=webp&amp;disable=upscale\"/></noscript></picture></div><div class=\"slideshow-animate css-12kq0ez\">May Truong for The New York Times</div></div></div></div></figure></a>,\n",
       " <a aria-hidden=\"false\" class=\"css-9mylee\" data-uri=\"nyt://article/6546c016-3077-54e6-af1a-fece6962dbd7\" href=\"https://www.nytimes.com/2023/05/08/sports/westminster-dog-show-photos.html\"><div><div class=\"css-xdandi\"><h3 class=\"indicate-hover css-66vf3i\">See photos from this year’s Westminster Dog Show so far, to be held today in New York.</h3></div><p class=\"css-1esztn\">2 min read</p></div></a>,\n",
       " <a aria-hidden=\"false\" class=\"css-9mylee\" data-uri=\"nyt://article/d185976f-3692-5442-962f-df7f460411be\" href=\"https://www.nytimes.com/2023/05/09/arts/met-museum-looted-art.html\"><div><div class=\"css-xdandi\"><h3 class=\"indicate-hover css-1ozlsow\">After Seizures, the Met Sets a Plan to Scour Collections for Looted Art</h3></div><div class=\"css-197v62q\"></div><p class=\"summary-class css-1azn4ub\">The plan features the hiring of a four-person provenance research team that will help review the museum’s collection for works with tainted histories.</p><p class=\"css-1esztn\">7 min read</p></div><div class=\"css-1xnr9ii\"></div><figure class=\"css-1uk1gs8\"><div class=\"css-ho9dtj\"><picture class=\"css-hdqqnp\"><source class=\"css-hdqqnp\" media=\"screen and (max-width: 600px)\"/><img alt=\"A museum gallery with a display case containing smaller items, as well as several free-standing sculptures.\" class=\"css-dzl7b5\" loading=\"lazy\"/><noscript><img alt=\"A museum gallery with a display case containing smaller items, as well as several free-standing sculptures.\" class=\"css-122y91a\" src=\"https://static01.nyt.com/images/2023/05/09/multimedia/09met2-pfkz/09met2-pfkz-threeByTwoSmallAt2X.jpg?format=pjpg&amp;quality=75&amp;auto=webp&amp;disable=upscale\"/></noscript></picture></div><figcaption aria-hidden=\"true\" class=\"css-1p5yz2j\"><span class=\"css-1j306sm\">Jeenah Moon for The New York Times</span></figcaption></figure></a>,\n",
       " <a aria-hidden=\"false\" class=\"css-9mylee\" data-uri=\"nyt://article/f4824442-02b1-5efe-b8a7-bf7f03080657\" href=\"https://www.nytimes.com/2023/05/09/magazine/dementia-mother.html\"><div><div class=\"css-xdandi\"><h3 class=\"indicate-hover css-1ozlsow\">The Mother Who Changed: A Story of Dementia</h3></div><div class=\"css-197v62q\"></div><p class=\"summary-class css-1azn4ub\">As cognitive decline began to alter Diane Norelius, her family wound up in a bitter dispute over which version of her should get to decide what she wanted.</p><p class=\"css-1esztn\">38 min read</p></div><div class=\"css-1xnr9ii\"></div><figure class=\"css-1uk1gs8\"><div class=\"css-ho9dtj\"><picture class=\"css-hdqqnp\"><source class=\"css-hdqqnp\" media=\"screen and (max-width: 600px)\"/><img alt=\"\" class=\"css-dzl7b5\" loading=\"lazy\"/><noscript><img alt=\"\" class=\"css-122y91a\" src=\"https://static01.nyt.com/images/2023/05/14/magazine/14mag-dementia-promo-copy/14mag-dementia-promo-threeByTwoSmallAt2X-v2.jpg?format=pjpg&amp;quality=75&amp;auto=webp&amp;disable=upscale\"/></noscript></picture></div><figcaption aria-hidden=\"true\" class=\"css-1p5yz2j\"><span class=\"css-1j306sm\">From Kris Norelius</span></figcaption></figure></a>,\n",
       " <a aria-hidden=\"false\" class=\"css-9mylee\" data-uri=\"nyt://article/aebc4722-6411-528b-9c1f-0ba1860e5cdd\" href=\"https://www.nytimes.com/2023/05/08/t-magazine/food-texture-eating.html\"><div><div class=\"css-xdandi\"><h3 class=\"indicate-hover css-1ozlsow\">Why Do American Diners Have a Limited Palate for Textures?</h3></div><div class=\"css-197v62q\"></div><p class=\"summary-class css-1azn4ub\">Complex taste sensations play a crucial role in food around the world, but have long been shunned stateside.</p><p class=\"css-1esztn\">8 min read</p></div></a>,\n",
       " <a aria-hidden=\"false\" class=\"css-9mylee\" data-uri=\"nyt://article/05bae9e5-ffe7-512b-8e38-963e7182c096\" href=\"https://www.nytimes.com/2023/05/09/realestate/succession-apartments-sale.html\"><figure class=\"css-1uk1gs8\"><div class=\"css-sxmela full-width-span-vw container-margin-none\" data-hp-full-width=\"true\"><div class=\"css-wne2ji\"><picture class=\"css-hdqqnp\"><source class=\"css-hdqqnp\" media=\"screen and (min-width: 1px)\"/><img alt=\"A woman with red hair and wearing a brown suit holds a cellphone in her palm as two men, both wearing sunglasses, look down at it. One man is wearing a blue button-down dress shirt while other is wearing a dark baseball cap and leather jacket. There two are palm trees behind them.\" class=\"css-dzl7b5\" loading=\"lazy\"><noscript><img alt=\"A woman with red hair and wearing a brown suit holds a cellphone in her palm as two men, both wearing sunglasses, look down at it. One man is wearing a blue button-down dress shirt while other is wearing a dark baseball cap and leather jacket. There two are palm trees behind them.\" class=\"css-122y91a\" src=\"https://static01.nyt.com/images/2023/05/08/multimedia/08successionrealestate-mvqb/08successionrealestate-mvqb-square640.jpg?format=pjpg&amp;quality=75&amp;auto=webp&amp;disable=upscale\"/></noscript></img></picture></div><figcaption aria-hidden=\"true\" class=\"css-1kpof33\"><span class=\"css-1j306sm\">HBO, via Associated Press</span></figcaption></div></figure><div class=\"css-1xnr9ii\"></div><div class=\"css-zirthl\"><h3 class=\"indicate-hover css-155pfad\">Roman and Kendall Roy’s ‘Succession’ Pads Hit the Market, for Real</h3><p class=\"summary-class css-1azn4ub\">Brokers are hoping the mystique of the fictional Roy family can help sell the multimillion dollar homes.</p><p class=\"css-1esztn\">4 min read</p></div></a>,\n",
       " <a aria-hidden=\"false\" class=\"css-9mylee\" data-uri=\"nyt://article/da2b55eb-7b8e-5b68-9157-cd562ce9557c\" href=\"https://www.nytimes.com/2023/05/09/style/mall-rats-animal-shelters.html\"><div class=\"css-oz0kdv\"><div class=\"css-8l3tpl e17qa79g0\" span=\"3\"><section class=\"story-wrapper\"><figure class=\"css-1uk1gs8\"><div class=\"css-ho9dtj\"><picture class=\"css-hdqqnp\"><source class=\"css-hdqqnp\" media=\"screen and (max-width: 600px)\"/><img alt=\"The back of a woman with three rats crawling on her shoulder.\" class=\"css-dzl7b5\" loading=\"lazy\"><noscript><img alt=\"The back of a woman with three rats crawling on her shoulder.\" class=\"css-122y91a\" src=\"https://static01.nyt.com/images/2023/05/11/multimedia/09MALL-RATS-01-bwvz/09MALL-RATS-01-bwvz-threeByTwoSmallAt2X.jpg?format=pjpg&amp;quality=75&amp;auto=webp&amp;disable=upscale\"/></noscript></img></picture></div></figure><div class=\"css-197v62q\"></div><div><div class=\"css-xdandi\"><h3 class=\"indicate-hover css-1gb49m4\">Can literal mall rats save the mall?</h3></div><p class=\"css-1esztn\">5 min read</p></div></section></div></div></a>,\n",
       " <a aria-hidden=\"false\" class=\"css-9mylee\" data-uri=\"nyt://article/7dd9651d-2309-59d7-80be-9fea618b4a9b\" href=\"https://www.nytimes.com/2023/05/08/sports/basketball/nba-los-angeles-lakers-playoffs.html\"><div class=\"css-oz0kdv\"><div class=\"css-8l3tpl e17qa79g0\" span=\"3\"><section class=\"story-wrapper\"><figure class=\"css-1uk1gs8\"><div class=\"css-ho9dtj\"><picture class=\"css-hdqqnp\"><source class=\"css-hdqqnp\" media=\"screen and (max-width: 600px)\"/><img alt=\"Terrance Burney stands in a white hoodie on a street corner pointing toward the street while holding a white sign that says “We see greatness in you!!!” in blue-and-yellow lettering.\" class=\"css-dzl7b5\" loading=\"lazy\"/><noscript><img alt=\"Terrance Burney stands in a white hoodie on a street corner pointing toward the street while holding a white sign that says “We see greatness in you!!!” in blue-and-yellow lettering.\" class=\"css-122y91a\" src=\"https://static01.nyt.com/images/2023/05/05/multimedia/05nba-playoffs-lakers-sign-04-lwkq/05nba-playoffs-lakers-sign-04-lwkq-threeByTwoSmallAt2X.jpg?format=pjpg&amp;quality=75&amp;auto=webp&amp;disable=upscale\"/></noscript></picture></div></figure><div class=\"css-197v62q\"></div><div><div class=\"css-xdandi\"><h3 class=\"indicate-hover css-1gb49m4\">He saw “greatness” in the Lakers, even when they were at their worst.</h3></div><p class=\"css-1esztn\">4 min read</p></div></section></div></div></a>,\n",
       " <a aria-hidden=\"false\" class=\"css-9mylee\" data-uri=\"\" href=\"https://www.nytimes.com/section/opinion\"><div class=\"css-1qa12lp\"><span>Opinion</span></div></a>,\n",
       " <a aria-hidden=\"false\" class=\"css-9mylee\" data-uri=\"nyt://article/c238104a-42ff-52ae-959e-321ba046cfa4\" href=\"https://www.nytimes.com/2023/05/08/opinion/biden-republicans-debt-ceiling.html\"><section class=\"story-wrapper\"><div><div class=\"css-0\"><h3 class=\"css-1hgbvll\">The Editorial Board</h3><h3 class=\"indicate-hover css-9dj29s\">The Urgent Question About Republicans and Debt</h3></div><p class=\"css-1esztn\">5 min read</p></div></section></a>,\n",
       " <a aria-hidden=\"false\" class=\"css-9mylee\" data-uri=\"nyt://article/0659f108-d0d8-58ec-8b83-155004093826\" href=\"https://www.nytimes.com/2023/05/09/opinion/cooking-feminism.html\"><section class=\"story-wrapper\"><div><div class=\"css-0\"><h3 class=\"css-1hgbvll\">Yana Pan</h3><h3 class=\"indicate-hover css-9dj29s\">My Mother Didn’t Want Me to ‘End Up’ Like Her, but I’m Still in the Kitchen</h3></div></div></section></a>,\n",
       " <a aria-hidden=\"false\" class=\"css-9mylee\" data-uri=\"nyt://article/df9c299c-1b32-5dbf-9143-869115226e63\" href=\"https://www.nytimes.com/2023/05/09/opinion/hard-decision-making-uncertainty-robert-e-rubin.html\"><section class=\"story-wrapper\"><div><div class=\"css-0\"><h3 class=\"css-1hgbvll\">Robert E. Rubin</h3><h3 class=\"indicate-hover css-9dj29s\">I Don’t Have the Secret to Making Hard Decisions, but I Do Have a Yellow Note Pad</h3></div><p class=\"css-1esztn\">6 min read</p></div></section></a>,\n",
       " <a aria-hidden=\"false\" class=\"css-9mylee\" data-uri=\"nyt://article/c08eaf4b-ea56-551c-8dde-364552b674da\" href=\"https://www.nytimes.com/2023/05/09/opinion/letters/rosalind-franklin-women-scientists.html\"><section class=\"story-wrapper\"><div><div class=\"css-0\"><h3 class=\"css-1hgbvll\">Letters From Our Readers</h3><h3 class=\"indicate-hover css-9dj29s\">Rosalind Franklin and Unsung Women in Science</h3></div><p class=\"css-1esztn\">5 min read</p></div></section></a>,\n",
       " <a aria-hidden=\"false\" class=\"css-9mylee\" data-uri=\"nyt://article/1d65671d-c631-5a7a-a248-da9e65c16663\" href=\"https://www.nytimes.com/2023/05/08/opinion/international-world/putin-russia.html\"><section class=\"story-wrapper\"><div><div class=\"css-0\"><h3 class=\"css-1hgbvll\">Serge Schmemann</h3><h3 class=\"indicate-hover css-9dj29s\">Things in Russia Aren’t as Bad as the Bad Old Soviet Days. ‘They’re Worse.’</h3></div><p class=\"css-1esztn\">5 min read</p></div></section></a>,\n",
       " <a aria-hidden=\"false\" class=\"css-9mylee\" data-uri=\"nyt://article/ef1034d3-e7e6-5f11-b5f5-92547d869a36\" href=\"https://www.nytimes.com/2023/05/08/opinion/wall-street-us-debt-default.html\"><section class=\"story-wrapper\"><div><div class=\"css-0\"><h3 class=\"css-1hgbvll\">Peter Coy</h3><h3 class=\"indicate-hover css-9dj29s\">Here’s How Wall Street Is Preparing for a U.S. Debt Default</h3></div><p class=\"css-1esztn\">5 min read</p></div></section></a>,\n",
       " <a aria-hidden=\"false\" class=\"css-9mylee\" data-uri=\"nyt://article/c3530150-3ac0-5fe8-a4a7-c67fae18cc46\" href=\"https://www.nytimes.com/2023/05/08/opinion/spoilers-succession-science.html\"><section class=\"story-wrapper\"><div><div class=\"css-0\"><h3 class=\"css-1hgbvll\">Anna-Lisa Cohen</h3><h3 class=\"indicate-hover css-9dj29s\">I’m Going to Spoil Your Favorite TV Show</h3></div><p class=\"css-1esztn\">5 min read</p></div></section></a>,\n",
       " <a aria-hidden=\"false\" class=\"css-9mylee\" data-uri=\"nyt://article/b490f159-4db0-5891-b19b-5e12884c61e8\" href=\"https://www.nytimes.com/2023/05/08/opinion/tennessee-gov-lee-gun-reform.html\"><section class=\"story-wrapper\"><div><div class=\"css-0\"><h3 class=\"css-1hgbvll\">Margaret Renkl</h3><h3 class=\"indicate-hover css-9dj29s\">It’s Been Six Weeks, and We Are Fighting Here in Nashville</h3></div><p class=\"css-1esztn\">5 min read</p></div></section></a>,\n",
       " <a aria-hidden=\"false\" class=\"css-9mylee\" data-uri=\"nyt://article/ce40ded4-f849-50ca-ac81-055c92fd1c6b\" href=\"https://www.nytimes.com/2023/05/09/us/california-reparations-efforts.html\"><div class=\"css-1ev7bio\"><div class=\"css-6v3ju5 e17qa79g0\" span=\"4\"><section class=\"story-wrapper\"><div><div class=\"css-xdandi\"><h3 class=\"indicate-hover css-66vf3i\">Read the California Today Newsletter</h3></div><div class=\"css-197v62q\"></div><p class=\"summary-class css-1azn4ub\">A conversation with Kurtis Lee, a New York Times economics correspondent covering California’s reparations efforts.</p><p class=\"css-1esztn\">5 min read</p></div></section></div><div class=\"css-cw4snp e17qa79g0\" span=\"4\"><figure class=\"css-1uk1gs8\"><div class=\"css-wne2ji\"><picture class=\"css-hdqqnp\"><source class=\"css-hdqqnp\" media=\"screen and (max-width: 600px)\"/><img alt=\"Members of the public during a meeting of the task force studying reparation proposals in Oakland on Saturday.\" class=\"css-dzl7b5\" loading=\"lazy\"/><noscript><img alt=\"Members of the public during a meeting of the task force studying reparation proposals in Oakland on Saturday.\" class=\"css-122y91a\" src=\"https://static01.nyt.com/images/2023/05/09/multimedia/09californiatoday-reparations-cmvj/09californiatoday-reparations-cmvj-square320.jpg?format=pjpg&amp;quality=75&amp;auto=webp&amp;disable=upscale\"/></noscript></picture></div></figure></div></div></a>,\n",
       " <a aria-hidden=\"false\" class=\"css-9mylee\" data-uri=\"nyt://article/b7237f9c-433d-5fc2-bac2-ba03252c50dd\" href=\"https://www.nytimes.com/2023/05/09/us/politics/feinstein-returns-senate.html\"><div><div class=\"css-xdandi\"><h5 class=\"css-81unx1\">BREAKING</h5><h3 class=\"indicate-hover css-on97le\">Feinstein Returning to Senate, Bringing Democrats Back to Full Majority</h3></div><div class=\"css-197v62q\"></div><p class=\"summary-class css-1azn4ub\">The monthslong absence of Senator Dianne Feinstein threatened to deprive her party of the votes to advance President Biden’s judicial nominees.</p><p class=\"css-1esztn\">2 min read</p></div><div class=\"css-1xnr9ii\"></div><figure class=\"css-1uk1gs8\"><div class=\"css-ho9dtj\"><picture class=\"css-hdqqnp\"><source class=\"css-hdqqnp\" media=\"screen and (max-width: 600px)\"/><img alt=\"Senator Dianne Feinstein, in a blue pantsuit, getting off a Capitol subway train car.\" class=\"css-dzl7b5\" loading=\"lazy\"/><noscript><img alt=\"Senator Dianne Feinstein, in a blue pantsuit, getting off a Capitol subway train car.\" class=\"css-122y91a\" src=\"https://static01.nyt.com/images/2023/05/09/multimedia/09dc-feinstein-fklv/09dc-feinstein-fklv-threeByTwoSmallAt2X.jpg?format=pjpg&amp;quality=75&amp;auto=webp&amp;disable=upscale\"/></noscript></picture></div><figcaption aria-hidden=\"true\" class=\"css-1p5yz2j\"><span class=\"css-1j306sm\">Pete Marovich for The New York Times</span></figcaption></figure></a>,\n",
       " <a aria-hidden=\"false\" class=\"css-9mylee\" data-uri=\"nyt://article/ad96f198-bb90-5827-8edc-c31082b79434\" href=\"https://www.nytimes.com/2023/05/09/world/asia/imran-khan-arrest-pakistan.html\"><div><div class=\"css-xdandi\"><h3 class=\"indicate-hover css-66vf3i\">Imran Khan, Pakistan’s Ex-Prime Minister, Is Arrested</h3></div><div class=\"css-197v62q\"></div><p class=\"summary-class css-1azn4ub\">Mr. Khan, a former cricket star, has staged a stunning political comeback since being ousted last year. His detention raises fears of protests and chaos.</p><p class=\"css-1esztn\">5 min read</p></div></a>,\n",
       " <a aria-hidden=\"false\" class=\"css-9mylee\" data-uri=\"nyt://article/dfc43ed9-c09b-5d30-9083-63fe4d562b69\" href=\"https://www.nytimes.com/2023/05/09/world/europe/turkey-election-erdogan.html\"><div><div class=\"css-xdandi\"><h3 class=\"indicate-hover css-66vf3i\">As Turkish Vote Looms, Erdogan Loyalists Can’t See Anyone Else in Charge</h3></div><div class=\"css-197v62q\"></div><p class=\"summary-class css-1azn4ub\">Staunch supporters of President Recep Tayyip Erdogan see no viable alternative, though he has been accused of mismanaging the economy.</p><p class=\"css-1esztn\">5 min read</p></div></a>,\n",
       " <a aria-hidden=\"false\" class=\"css-9mylee\" data-uri=\"nyt://article/6d8c3469-e4fc-507f-955b-bbbe27fb8c54\" href=\"https://www.nytimes.com/2023/05/09/us/politics/clarence-thomas-harlan-crow-senate-democrats.html\"><div><div class=\"css-xdandi\"><h3 class=\"indicate-hover css-66vf3i\">Senate Democrats Seek Accounting of Gifts to Thomas and Other Justices</h3></div><div class=\"css-197v62q\"></div><p class=\"summary-class css-1azn4ub\">Democrats asked Harlan Crow, a billionaire with extensive ties to Justice Clarence Thomas, to provide a list of any benefits he provided.</p><p class=\"css-1esztn\">3 min read</p></div></a>,\n",
       " <a aria-hidden=\"false\" class=\"css-9mylee\" data-uri=\"nyt://article/18b32364-53db-5821-b4a0-afae51a53114\" href=\"https://www.nytimes.com/2023/05/05/dining/saltfish-recipe-trinidadian-women.html\"><figure class=\"css-1uk1gs8\"><div class=\"css-sxmela full-width-span-vw container-margin-none\" data-hp-full-width=\"true\"><div class=\"css-wne2ji\"><picture class=\"css-hdqqnp\"><source class=\"css-hdqqnp\" media=\"screen and (min-width: 1px)\"/><img alt=\"An overhead image of a plate topped with a mix of sautéed vegetables, herbs and flaked salted cod. To the right are triangles of a coconutty flatbread.\" class=\"css-dzl7b5\" loading=\"lazy\"><noscript><img alt=\"An overhead image of a plate topped with a mix of sautéed vegetables, herbs and flaked salted cod. To the right are triangles of a coconutty flatbread.\" class=\"css-122y91a\" src=\"https://static01.nyt.com/images/2023/05/10/multimedia/05Mothersday-blmz/05Mothersday-blmz-square640.jpg?format=pjpg&amp;quality=75&amp;auto=webp&amp;disable=upscale\"/></noscript></img></picture></div><figcaption aria-hidden=\"true\" class=\"css-1kpof33\"><span class=\"css-1j306sm\">Ryan Liebe for The New York Times. Food Stylist: Barrett Washburne.</span></figcaption></div></figure><div class=\"css-1xnr9ii\"></div><div class=\"css-zirthl\"><h3 class=\"indicate-hover css-155pfad\">This Trinidadian Recipe Unites Three Generations of Mothers</h3><p class=\"summary-class css-1azn4ub\">For one family, buljol carries many lessons from the past.</p><p class=\"css-1esztn\">3 min read</p></div></a>,\n",
       " <a aria-hidden=\"false\" class=\"css-9mylee\" data-uri=\"nyt://article/069170c7-3341-5f6c-b05e-09b37be75b6a\" href=\"https://www.nytimes.com/2023/05/08/arts/music/rhiannon-giddens-michael-abels-pulitzer-prize-for-music-omar.html\"><div class=\"css-oz0kdv\"><div class=\"css-8l3tpl e17qa79g0\" span=\"3\"><section class=\"story-wrapper\"><figure class=\"css-1uk1gs8\"><div class=\"css-ho9dtj\"><picture class=\"css-hdqqnp\"><source class=\"css-hdqqnp\" media=\"screen and (max-width: 600px)\"/><img alt=\"Jamez McCorkle kneels onstage, wrapped in a robe of Arabic script that blends with surrounding draped curtains that form the set of an opera.\" class=\"css-dzl7b5\" loading=\"lazy\"/><noscript><img alt=\"Jamez McCorkle kneels onstage, wrapped in a robe of Arabic script that blends with surrounding draped curtains that form the set of an opera.\" class=\"css-122y91a\" src=\"https://static01.nyt.com/images/2023/05/10/multimedia/08pulitzer-giddens-bgqf/08pulitzer-giddens-bgqf-threeByTwoSmallAt2X.jpg?format=pjpg&amp;quality=75&amp;auto=webp&amp;disable=upscale\"/></noscript></picture></div></figure><div class=\"css-197v62q\"></div><div><div class=\"css-xdandi\"><h3 class=\"indicate-hover css-1gb49m4\">Winning the Pulitzer Prize for Music</h3></div><div class=\"css-j4dysj\"></div><p class=\"summary-class css-1azn4ub\">Rhiannon Giddens and Michael Abels reflect on the success of their opera “Omar.”</p><p class=\"css-1esztn\">4 min read</p></div></section></div></div></a>,\n",
       " <a aria-hidden=\"false\" class=\"css-9mylee\" data-uri=\"nyt://article/cb9ba0cb-b74d-50d9-96ba-d4391d7aec03\" href=\"https://www.nytimes.com/2023/05/09/arts/music/standing-on-the-corner.html\"><div class=\"css-oz0kdv\"><div class=\"css-8l3tpl e17qa79g0\" span=\"3\"><section class=\"story-wrapper\"><figure class=\"css-1uk1gs8\"><div class=\"css-ho9dtj\"><picture class=\"css-hdqqnp\"><source class=\"css-hdqqnp\" media=\"screen and (max-width: 600px)\"/><img alt=\"A keyboardist with long hair and sunglasses, seen onstage through a few members of a crowd who are not in focus, all bathed in red light.\" class=\"css-dzl7b5\" loading=\"lazy\"/><noscript><img alt=\"A keyboardist with long hair and sunglasses, seen onstage through a few members of a crowd who are not in focus, all bathed in red light.\" class=\"css-122y91a\" src=\"https://static01.nyt.com/images/2023/05/10/multimedia/09sotc-zkvt/09sotc-zkvt-threeByTwoSmallAt2X.jpg?format=pjpg&amp;quality=75&amp;auto=webp&amp;disable=upscale\"/></noscript></picture></div></figure><div class=\"css-197v62q\"></div><div><div class=\"css-xdandi\"><h3 class=\"indicate-hover css-1gb49m4\">A Music Collective That Won’t Be Pinned Down</h3></div><div class=\"css-j4dysj\"></div><p class=\"summary-class css-1azn4ub\">Standing on a Corner has been blurring genres since 2016.</p><p class=\"css-1esztn\">6 min read</p></div></section></div></div></a>,\n",
       " <a aria-hidden=\"false\" class=\"css-9mylee\" data-uri=\"nyt://article/f081cf34-52cb-58da-b047-04ff31cef04c\" href=\"https://www.nytimes.com/2023/05/08/obituaries/james-sakoda-overlooked.html\"><div class=\"css-oz0kdv\"><div class=\"css-8l3tpl e17qa79g0\" span=\"3\"><section class=\"story-wrapper\"><figure class=\"css-1uk1gs8\"><div class=\"css-ho9dtj\"><picture class=\"css-hdqqnp\"><source class=\"css-hdqqnp\" media=\"screen and (max-width: 600px)\"/><img alt=\"A black-and-white photo of James Sakoda sitting at an early version of a computer writing on stack of papers while wearing glasses and a suit. Above him are large format origami in various shapes, including a face and a flamingo.\" class=\"css-dzl7b5\" loading=\"lazy\"/><noscript><img alt=\"A black-and-white photo of James Sakoda sitting at an early version of a computer writing on stack of papers while wearing glasses and a suit. Above him are large format origami in various shapes, including a face and a flamingo.\" class=\"css-122y91a\" src=\"https://static01.nyt.com/images/2023/05/03/multimedia/00overlooked-sakoda-jwqm/00overlooked-sakoda-jwqm-threeByTwoSmallAt2X.jpg?format=pjpg&amp;quality=75&amp;auto=webp&amp;disable=upscale\"/></noscript></picture></div></figure><div class=\"css-197v62q\"></div><div><div class=\"css-xdandi\"><h3 class=\"indicate-hover css-1gb49m4\">Overlooked No More: James Sakoda</h3></div><div class=\"css-j4dysj\"></div><p class=\"summary-class css-1azn4ub\">His documentation of internment camps helped inspire a social science tool.</p><p class=\"css-1esztn\">6 min read</p></div></section></div></div></a>,\n",
       " <a aria-hidden=\"false\" class=\"css-9mylee\" data-uri=\"nyt://article/3ef1085a-3c42-5d67-8854-29cf95cb3b64\" href=\"https://www.nytimes.com/2023/05/08/sports/baseball/vida-blue-oakland-athletics.html\"><div class=\"css-oz0kdv\"><div class=\"css-8l3tpl e17qa79g0\" span=\"3\"><section class=\"story-wrapper\"><figure class=\"css-1uk1gs8\"><div class=\"css-ho9dtj\"><picture class=\"css-hdqqnp\"><source class=\"css-hdqqnp\" media=\"screen and (max-width: 600px)\"/><img alt=\"Vida Blue, wearing yellow pants and a yellow vest with a green long-sleeved shirt underneath, holds his follow-through as his pitch approaches home plate.\" class=\"css-dzl7b5\" loading=\"lazy\"/><noscript><img alt=\"Vida Blue, wearing yellow pants and a yellow vest with a green long-sleeved shirt underneath, holds his follow-through as his pitch approaches home plate.\" class=\"css-122y91a\" src=\"https://static01.nyt.com/images/2023/05/08/multimedia/08kepner-vida-blue-jlkm/08kepner-vida-blue-jlkm-threeByTwoSmallAt2X.jpg?format=pjpg&amp;quality=75&amp;auto=webp&amp;disable=upscale\"/></noscript></picture></div></figure><div class=\"css-197v62q\"></div><div><div class=\"css-xdandi\"><h3 class=\"indicate-hover css-1gb49m4\">Vida Blue Was a Baseball Comet</h3></div><div class=\"css-j4dysj\"></div><p class=\"summary-class css-1azn4ub\">Blue, who died on Saturday, was a star from the start.</p><p class=\"css-1esztn\">5 min read</p></div></section></div></div></a>,\n",
       " <a aria-hidden=\"false\" class=\"css-9mylee\" data-uri=\"\" href=\"https://theathletic.com/\"><div class=\"css-1rwxdtx\"><span>The Athletic</span><span class=\"css-v5yrnk\">In-depth sports coverage of your favorite teams and leagues.</span></div></a>,\n",
       " <a aria-hidden=\"false\" class=\"css-9mylee\" data-uri=\"nyt://promo/dd90a26f-ce05-5db5-9dd9-3d4097b82207\" href=\"https://theathletic.com/4501492/2023/05/09/jordan-poole-warriors-lakers-game-4/\"><div><div class=\"css-xdandi\"><h3 class=\"indicate-hover css-on97le\">As the Warriors Falter, a Key Player Withers in the Spotlight</h3></div><div class=\"css-197v62q\"></div><p class=\"summary-class css-1azn4ub\">Golden State is on the brink of elimination as the guard Jordan Poole offers a sign he’ll never be a foundational player, our columnist writes.</p></div><div class=\"css-1xnr9ii\"></div><figure class=\"css-1uk1gs8\"><div class=\"css-ho9dtj\"><picture class=\"css-hdqqnp\"><source class=\"css-hdqqnp\" media=\"screen and (max-width: 600px)\"/><img alt=\"\" class=\"css-dzl7b5\" loading=\"lazy\"/><noscript><img alt=\"\" class=\"css-122y91a\" src=\"https://static01.nyt.com/images/2023/05/09/multimedia/tamc-050923-jordan-poole/tamc-050923-jordan-poole-threeByTwoSmallAt2X.jpg?format=pjpg&amp;quality=75&amp;auto=webp&amp;disable=upscale\"/></noscript></picture></div><figcaption aria-hidden=\"true\" class=\"css-1p5yz2j\"><span class=\"css-1j306sm\">Adam Pantozzi / NBAE via Getty Images</span></figcaption></figure></a>,\n",
       " <a aria-hidden=\"false\" class=\"css-9mylee\" data-uri=\"nyt://promo/e0031164-ff0b-53ed-938d-f3bb57edbde5\" href=\"https://theathletic.com/4503070/2023/05/09/bob-huggins-west-virginia-homophobic-slur/\"><div><div class=\"css-xdandi\"><h3 class=\"indicate-hover css-66vf3i\">Why Hasn’t West Virginia Fired a Coach After He Used a Homophobic Slur?</h3></div><div class=\"css-197v62q\"></div><p class=\"summary-class css-1azn4ub\">Bob Huggins’s fate comes down to how hard a line the university wants to take against hate speech, our columnist writes.</p></div></a>,\n",
       " <a aria-hidden=\"false\" class=\"css-9mylee\" data-uri=\"nyt://promo/fa9b620e-2e65-5cb7-854e-acdc4a8810b6\" href=\"https://theathletic.com/4501085/2023/05/09/chicago-blackhawks-nhl-draft-lottery-connor-bedard/\"><div><div class=\"css-xdandi\"><h3 class=\"indicate-hover css-66vf3i\">A Miserable Teardown Ends in Chicago. Is the Prize Worth the Pain?</h3></div><div class=\"css-197v62q\"></div><p class=\"summary-class css-1azn4ub\">The Blackhawks tanked for the chance to select Connor Bedard. The anticipated No. 1 pick has the weight of a city on his shoulders.</p></div></a>,\n",
       " <a aria-hidden=\"false\" class=\"css-9mylee\" data-uri=\"nyt://promo/3e4982a6-e9e5-596e-b1f0-daba931a3f84\" href=\"https://theathletic.com/4500971/2023/05/09/nhl-draft-lottery-chicago-blackhawks-connor-bedard/\"><div><div class=\"css-xdandi\"><h3 class=\"indicate-hover css-66vf3i\">How a TV Miscue Spoiled an N.H.L. Draft Lottery Surprise</h3></div></div></a>,\n",
       " <a aria-hidden=\"false\" class=\"css-9mylee\" data-uri=\"nyt://promo/16cdf6c6-ec8e-5c9a-935c-13d50e786e83\" href=\"https://theathletic.com/4499279/2023/05/09/pj-tucker-joel-embiid-message-76ers/\"><div><div class=\"css-xdandi\"><h3 class=\"indicate-hover css-66vf3i\">Joel Embiid Was Stuck. Then an N.B.A. Veteran Delivered a Critical Message.</h3></div></div></a>,\n",
       " <a aria-hidden=\"false\" class=\"css-9mylee\" data-uri=\"nyt://promo/154c1475-1584-558a-9ba4-74ffe1060a45\" href=\"https://theathletic.com/4495811/2023/05/08/leeds-united-manager-sacking-ownership-inside-story/\"><div><div class=\"css-xdandi\"><h3 class=\"indicate-hover css-66vf3i\">One of England’s Biggest Soccer Clubs Is on the Brink of Disaster</h3></div></div></a>,\n",
       " <a aria-hidden=\"false\" class=\"css-9mylee\" data-uri=\"\" href=\"https://cooking.nytimes.com/\"><div class=\"css-1rwxdtx\"><span>New York Times Cooking</span><span class=\"css-v5yrnk\">Recipes, advice and inspiration for any occasion.</span></div></a>,\n",
       " <a aria-hidden=\"false\" class=\"css-9mylee\" data-uri=\"\" href=\"https://www.nytimes.com/wirecutter/\"><div class=\"css-1rwxdtx\"><span>Recommendations From Wirecutter</span><span class=\"css-v5yrnk\">Independent reviews for thousands of products.</span></div></a>,\n",
       " <a aria-hidden=\"false\" class=\"css-9mylee\" data-uri=\"nyt://promo/c526680a-46b9-5c63-8313-c3aefb0c2df3\" href=\"https://www.nytimes.com/games/wordle/index.html\"><div class=\"css-b6n3ve\"><div class=\"css-6v3ju5 e17qa79g0\" span=\"4\"><section class=\"story-wrapper\"><div><div class=\"css-xdandi\"><h3 class=\"indicate-hover css-66vf3i\">Wordle</h3></div><div class=\"css-197v62q\"></div><p class=\"summary-class css-1azn4ub\">Guess the 5-letter word with 6 chances.</p></div></section></div><div class=\"css-1fvhbq8 e17qa79g0\" span=\"2\"><figure class=\"css-1uk1gs8\"><div class=\"css-wne2ji\"><picture class=\"css-hdqqnp\"><source class=\"css-hdqqnp\" media=\"screen and (max-width: 600px)\"/><img alt=\"\" class=\"css-dzl7b5\" loading=\"lazy\"/><noscript><img alt=\"\" class=\"css-122y91a\" src=\"https://static01.nyt.com/images/2022/03/02/crosswords/alpha-wordle-icon-new/alpha-wordle-icon-new-square320-v3.png?format=pjpg&amp;quality=75&amp;auto=webp&amp;disable=upscale\"/></noscript></picture></div></figure></div></div></a>,\n",
       " <a aria-hidden=\"false\" class=\"css-9mylee\" data-uri=\"nyt://article/7e2e75f5-b4da-5a12-bd2d-0704c710fe13\" href=\"https://www.nytimes.com/2023/05/09/crosswords/wordle-review-answer-689.html\"><div class=\"css-b6n3ve\"><div class=\"css-6v3ju5 e17qa79g0\" span=\"4\"><section class=\"story-wrapper\"><div><div class=\"css-xdandi\"><h3 class=\"indicate-hover css-66vf3i\">Today’s Wordle Review</h3></div><div class=\"css-197v62q\"></div><p class=\"summary-class css-1azn4ub\">Our columnist reviews the day’s puzzle. Warning: Contains spoilers!</p><p class=\"css-1esztn\">3 min read</p></div></section></div><div class=\"css-1fvhbq8 e17qa79g0\" span=\"2\"><figure class=\"css-1uk1gs8\"><div class=\"css-wne2ji\"><picture class=\"css-hdqqnp\"><source class=\"css-hdqqnp\" media=\"screen and (max-width: 600px)\"/><img alt=\"On a muted red background in painterly strokes, three langurs ranging in tone from teal to green run and jump alongside a B-boy dancer wearing a bright magenta hoodie and army-green pants. The day’s Wordle number is layered on top.\" class=\"css-dzl7b5\" loading=\"lazy\"/><noscript><img alt=\"On a muted red background in painterly strokes, three langurs ranging in tone from teal to green run and jump alongside a B-boy dancer wearing a bright magenta hoodie and army-green pants. The day’s Wordle number is layered on top.\" class=\"css-122y91a\" src=\"https://static01.nyt.com/images/2023/05/09/crosswords/09wordle-review-art/09wordle-review-art-square320.png?format=pjpg&amp;quality=75&amp;auto=webp&amp;disable=upscale\"/></noscript></picture></div></figure></div></div></a>,\n",
       " <a aria-hidden=\"false\" class=\"css-9mylee\" data-uri=\"nyt://promo/8788a6e9-0db1-5c7c-a8e8-d82c37ccfdd0\" href=\"https://www.nytimes.com/puzzles/spelling-bee\"><div class=\"css-b6n3ve\"><div class=\"css-6v3ju5 e17qa79g0\" span=\"4\"><section class=\"story-wrapper\"><div><div class=\"css-xdandi\"><h3 class=\"indicate-hover css-66vf3i\">Spelling Bee</h3></div><div class=\"css-197v62q\"></div><p class=\"summary-class css-1azn4ub\">How many words can you make with 7 letters?</p></div></section></div><div class=\"css-1fvhbq8 e17qa79g0\" span=\"2\"><figure class=\"css-1uk1gs8\"><div class=\"css-wne2ji\"><picture class=\"css-hdqqnp\"><source class=\"css-hdqqnp\" media=\"screen and (max-width: 600px)\"/><img alt=\"\" class=\"css-dzl7b5\" loading=\"lazy\"/><noscript><img alt=\"\" class=\"css-122y91a\" src=\"https://static01.nyt.com/images/2020/03/23/crosswords/spelling-bee-logo-nytgames-hi-res/spelling-bee-logo-nytgames-hi-res-square320-v4.png?format=pjpg&amp;quality=75&amp;auto=webp&amp;disable=upscale\"/></noscript></picture></div></figure></div></div></a>,\n",
       " <a aria-hidden=\"false\" class=\"css-9mylee\" data-uri=\"nyt://promo/f7f1225d-6bba-5864-ad80-682122a9fbbf\" href=\"https://www.nytimes.com/crosswords\"><div class=\"css-b6n3ve\"><div class=\"css-6v3ju5 e17qa79g0\" span=\"4\"><section class=\"story-wrapper\"><div><div class=\"css-xdandi\"><h3 class=\"indicate-hover css-66vf3i\">The Crossword</h3></div><div class=\"css-197v62q\"></div><p class=\"summary-class css-1azn4ub\">Get clued in with wordplay, every day.</p></div></section></div><div class=\"css-1fvhbq8 e17qa79g0\" span=\"2\"><figure class=\"css-1uk1gs8\"><div class=\"css-wne2ji\"><picture class=\"css-hdqqnp\"><source class=\"css-hdqqnp\" media=\"screen and (max-width: 600px)\"/><img alt=\"\" class=\"css-dzl7b5\" loading=\"lazy\"/><noscript><img alt=\"\" class=\"css-122y91a\" src=\"https://static01.nyt.com/images/2020/03/23/crosswords/crossword-logo-nytgames-hires/crossword-logo-nytgames-hires-square320-v3.png?format=pjpg&amp;quality=75&amp;auto=webp&amp;disable=upscale\"/></noscript></picture></div></figure></div></div></a>,\n",
       " <a aria-hidden=\"false\" class=\"css-9mylee\" data-uri=\"nyt://promo/3f11ff22-8e3d-5a35-aafa-f259336d0e0b\" href=\"https://www.nytimes.com/puzzles/tiles\"><div class=\"css-b6n3ve\"><div class=\"css-6v3ju5 e17qa79g0\" span=\"4\"><section class=\"story-wrapper\"><div><div class=\"css-xdandi\"><h3 class=\"indicate-hover css-66vf3i\">Tiles</h3></div><div class=\"css-197v62q\"></div><p class=\"summary-class css-1azn4ub\">Match visual elements and keep your chain going.</p></div></section></div><div class=\"css-1fvhbq8 e17qa79g0\" span=\"2\"><figure class=\"css-1uk1gs8\"><div class=\"css-wne2ji\"><picture class=\"css-hdqqnp\"><source class=\"css-hdqqnp\" media=\"screen and (max-width: 600px)\"/><img alt=\"\" class=\"css-dzl7b5\" loading=\"lazy\"/><noscript><img alt=\"\" class=\"css-122y91a\" src=\"https://static01.nyt.com/images/2020/03/23/crosswords/tiles-logo-nytgames-hi-res/tiles-logo-nytgames-hi-res-square320-v4.png?format=pjpg&amp;quality=75&amp;auto=webp&amp;disable=upscale\"/></noscript></picture></div></figure></div></div></a>,\n",
       " <a aria-hidden=\"false\" class=\"css-9mylee\" data-uri=\"nyt://promo/d1e103a6-9339-5a49-b15d-44883e243753\" href=\"https://www.nytimes.com/puzzles/letter-boxed\"><div class=\"css-b6n3ve\"><div class=\"css-6v3ju5 e17qa79g0\" span=\"4\"><section class=\"story-wrapper\"><div><div class=\"css-xdandi\"><h3 class=\"indicate-hover css-66vf3i\">Letter Boxed</h3></div><div class=\"css-197v62q\"></div><p class=\"summary-class css-1azn4ub\">Create words using letters around the square.</p></div></section></div><div class=\"css-1fvhbq8 e17qa79g0\" span=\"2\"><figure class=\"css-1uk1gs8\"><div class=\"css-wne2ji\"><picture class=\"css-hdqqnp\"><source class=\"css-hdqqnp\" media=\"screen and (max-width: 600px)\"/><img alt=\"\" class=\"css-dzl7b5\" loading=\"lazy\"/><noscript><img alt=\"\" class=\"css-122y91a\" src=\"https://static01.nyt.com/images/2021/05/27/multimedia/alpha-letterboxed-promo-1622145789727/alpha-letterboxed-promo-1622145789727-square320.png?format=pjpg&amp;quality=75&amp;auto=webp&amp;disable=upscale\"/></noscript></picture></div></figure></div></div></a>]"
      ]
     },
     "execution_count": 21,
     "metadata": {},
     "output_type": "execute_result"
    }
   ],
   "source": [
    "article_links = soup.find_all('a', class_='css-9mylee')\n",
    "article_links"
   ]
  },
  {
   "cell_type": "code",
   "execution_count": 22,
   "id": "bacf10a7",
   "metadata": {},
   "outputs": [
    {
     "data": {
      "text/plain": [
       "'https://www.nytimes.com/live/2023/05/09/us/debt-ceiling-biden-mccarthy'"
      ]
     },
     "execution_count": 22,
     "metadata": {},
     "output_type": "execute_result"
    }
   ],
   "source": [
    "article_links[0]['href']"
   ]
  },
  {
   "cell_type": "code",
   "execution_count": 23,
   "id": "58bb93cb",
   "metadata": {},
   "outputs": [
    {
     "name": "stdout",
     "output_type": "stream",
     "text": [
      "https://www.nytimes.com/live/2023/05/09/us/debt-ceiling-biden-mccarthy\n",
      "https://www.nytimes.com/live/2023/05/09/nyregion/trump-carroll-rape-trial-verdict\n",
      "https://www.nytimes.com/live/2023/05/09/nyregion/trump-carroll-rape-trial-verdict\n",
      "https://www.nytimes.com/live/2023/05/09/nyregion/trump-carroll-rape-trial-verdict\n",
      "https://www.nytimes.com/live/2023/05/09/nyregion/trump-carroll-rape-trial-verdict/e-jean-carroll-described-an-assault-in-minute-detail\n",
      "https://www.nytimes.com/live/2023/05/09/nyregion/trump-carroll-rape-trial-verdict/heres-a-closer-look-at-the-5-million-in-damages-that-the-jury-awarded-carroll\n",
      "https://www.nytimes.com/live/2023/05/09/us/debt-ceiling-biden-mccarthy\n",
      "https://www.nytimes.com/2023/05/09/business/markets-investors-debt-ceiling.html\n",
      "https://www.nytimes.com/live/2023/05/09/world/russia-ukraine-news\n",
      "https://www.nytimes.com/live/2023/05/09/world/russia-ukraine-news/the-us-is-providing-1-2-billion-for-ukraine-to-buy-air-defense-missiles-and-other-crucial-equipment\n",
      "https://www.nytimes.com/2023/05/09/health/breast-cancer-mammograms.html\n",
      "https://www.nytimes.com/2023/05/09/us/politics/william-burns-cia-biden.html\n",
      "https://www.nytimes.com/2023/05/09/us/desantis-florida-social-studies-textbooks.html\n",
      "https://www.nytimes.com/2023/05/09/technology/cellular-china-us-zte-huawei.html\n",
      "https://www.nytimes.com/2023/05/09/sports/striker-samoyed-westminster-dog-show.html\n",
      "https://www.nytimes.com/2023/05/08/sports/westminster-dog-show-photos.html\n",
      "https://www.nytimes.com/2023/05/09/arts/met-museum-looted-art.html\n",
      "https://www.nytimes.com/2023/05/09/magazine/dementia-mother.html\n",
      "https://www.nytimes.com/2023/05/08/t-magazine/food-texture-eating.html\n",
      "https://www.nytimes.com/2023/05/09/realestate/succession-apartments-sale.html\n",
      "https://www.nytimes.com/2023/05/09/style/mall-rats-animal-shelters.html\n",
      "https://www.nytimes.com/2023/05/08/sports/basketball/nba-los-angeles-lakers-playoffs.html\n",
      "https://www.nytimes.com/section/opinion\n",
      "https://www.nytimes.com/2023/05/08/opinion/biden-republicans-debt-ceiling.html\n",
      "https://www.nytimes.com/2023/05/09/opinion/cooking-feminism.html\n",
      "https://www.nytimes.com/2023/05/09/opinion/hard-decision-making-uncertainty-robert-e-rubin.html\n",
      "https://www.nytimes.com/2023/05/09/opinion/letters/rosalind-franklin-women-scientists.html\n",
      "https://www.nytimes.com/2023/05/08/opinion/international-world/putin-russia.html\n",
      "https://www.nytimes.com/2023/05/08/opinion/wall-street-us-debt-default.html\n",
      "https://www.nytimes.com/2023/05/08/opinion/spoilers-succession-science.html\n",
      "https://www.nytimes.com/2023/05/08/opinion/tennessee-gov-lee-gun-reform.html\n",
      "https://www.nytimes.com/2023/05/09/us/california-reparations-efforts.html\n",
      "https://www.nytimes.com/2023/05/09/us/politics/feinstein-returns-senate.html\n",
      "https://www.nytimes.com/2023/05/09/world/asia/imran-khan-arrest-pakistan.html\n",
      "https://www.nytimes.com/2023/05/09/world/europe/turkey-election-erdogan.html\n",
      "https://www.nytimes.com/2023/05/09/us/politics/clarence-thomas-harlan-crow-senate-democrats.html\n",
      "https://www.nytimes.com/2023/05/05/dining/saltfish-recipe-trinidadian-women.html\n",
      "https://www.nytimes.com/2023/05/08/arts/music/rhiannon-giddens-michael-abels-pulitzer-prize-for-music-omar.html\n",
      "https://www.nytimes.com/2023/05/09/arts/music/standing-on-the-corner.html\n",
      "https://www.nytimes.com/2023/05/08/obituaries/james-sakoda-overlooked.html\n",
      "https://www.nytimes.com/2023/05/08/sports/baseball/vida-blue-oakland-athletics.html\n",
      "https://theathletic.com/\n",
      "https://theathletic.com/4501492/2023/05/09/jordan-poole-warriors-lakers-game-4/\n",
      "https://theathletic.com/4503070/2023/05/09/bob-huggins-west-virginia-homophobic-slur/\n",
      "https://theathletic.com/4501085/2023/05/09/chicago-blackhawks-nhl-draft-lottery-connor-bedard/\n",
      "https://theathletic.com/4500971/2023/05/09/nhl-draft-lottery-chicago-blackhawks-connor-bedard/\n",
      "https://theathletic.com/4499279/2023/05/09/pj-tucker-joel-embiid-message-76ers/\n",
      "https://theathletic.com/4495811/2023/05/08/leeds-united-manager-sacking-ownership-inside-story/\n",
      "https://cooking.nytimes.com/\n",
      "https://www.nytimes.com/wirecutter/\n",
      "https://www.nytimes.com/games/wordle/index.html\n",
      "https://www.nytimes.com/2023/05/09/crosswords/wordle-review-answer-689.html\n",
      "https://www.nytimes.com/puzzles/spelling-bee\n",
      "https://www.nytimes.com/crosswords\n",
      "https://www.nytimes.com/puzzles/tiles\n",
      "https://www.nytimes.com/puzzles/letter-boxed\n"
     ]
    }
   ],
   "source": [
    "for element in article_links:\n",
    "    print(element['href'])"
   ]
  },
  {
   "cell_type": "code",
   "execution_count": 24,
   "id": "a336fbc2",
   "metadata": {},
   "outputs": [],
   "source": [
    "links_list = []\n",
    "\n",
    "for element in article_links:\n",
    "    links_list.append(element['href'])"
   ]
  },
  {
   "cell_type": "code",
   "execution_count": 25,
   "id": "dbf89080",
   "metadata": {},
   "outputs": [
    {
     "data": {
      "text/plain": [
       "['https://www.nytimes.com/live/2023/05/09/us/debt-ceiling-biden-mccarthy',\n",
       " 'https://www.nytimes.com/live/2023/05/09/nyregion/trump-carroll-rape-trial-verdict',\n",
       " 'https://www.nytimes.com/live/2023/05/09/nyregion/trump-carroll-rape-trial-verdict',\n",
       " 'https://www.nytimes.com/live/2023/05/09/nyregion/trump-carroll-rape-trial-verdict',\n",
       " 'https://www.nytimes.com/live/2023/05/09/nyregion/trump-carroll-rape-trial-verdict/e-jean-carroll-described-an-assault-in-minute-detail',\n",
       " 'https://www.nytimes.com/live/2023/05/09/nyregion/trump-carroll-rape-trial-verdict/heres-a-closer-look-at-the-5-million-in-damages-that-the-jury-awarded-carroll',\n",
       " 'https://www.nytimes.com/live/2023/05/09/us/debt-ceiling-biden-mccarthy',\n",
       " 'https://www.nytimes.com/2023/05/09/business/markets-investors-debt-ceiling.html',\n",
       " 'https://www.nytimes.com/live/2023/05/09/world/russia-ukraine-news',\n",
       " 'https://www.nytimes.com/live/2023/05/09/world/russia-ukraine-news/the-us-is-providing-1-2-billion-for-ukraine-to-buy-air-defense-missiles-and-other-crucial-equipment',\n",
       " 'https://www.nytimes.com/2023/05/09/health/breast-cancer-mammograms.html',\n",
       " 'https://www.nytimes.com/2023/05/09/us/politics/william-burns-cia-biden.html',\n",
       " 'https://www.nytimes.com/2023/05/09/us/desantis-florida-social-studies-textbooks.html',\n",
       " 'https://www.nytimes.com/2023/05/09/technology/cellular-china-us-zte-huawei.html',\n",
       " 'https://www.nytimes.com/2023/05/09/sports/striker-samoyed-westminster-dog-show.html',\n",
       " 'https://www.nytimes.com/2023/05/08/sports/westminster-dog-show-photos.html',\n",
       " 'https://www.nytimes.com/2023/05/09/arts/met-museum-looted-art.html',\n",
       " 'https://www.nytimes.com/2023/05/09/magazine/dementia-mother.html',\n",
       " 'https://www.nytimes.com/2023/05/08/t-magazine/food-texture-eating.html',\n",
       " 'https://www.nytimes.com/2023/05/09/realestate/succession-apartments-sale.html',\n",
       " 'https://www.nytimes.com/2023/05/09/style/mall-rats-animal-shelters.html',\n",
       " 'https://www.nytimes.com/2023/05/08/sports/basketball/nba-los-angeles-lakers-playoffs.html',\n",
       " 'https://www.nytimes.com/section/opinion',\n",
       " 'https://www.nytimes.com/2023/05/08/opinion/biden-republicans-debt-ceiling.html',\n",
       " 'https://www.nytimes.com/2023/05/09/opinion/cooking-feminism.html',\n",
       " 'https://www.nytimes.com/2023/05/09/opinion/hard-decision-making-uncertainty-robert-e-rubin.html',\n",
       " 'https://www.nytimes.com/2023/05/09/opinion/letters/rosalind-franklin-women-scientists.html',\n",
       " 'https://www.nytimes.com/2023/05/08/opinion/international-world/putin-russia.html',\n",
       " 'https://www.nytimes.com/2023/05/08/opinion/wall-street-us-debt-default.html',\n",
       " 'https://www.nytimes.com/2023/05/08/opinion/spoilers-succession-science.html',\n",
       " 'https://www.nytimes.com/2023/05/08/opinion/tennessee-gov-lee-gun-reform.html',\n",
       " 'https://www.nytimes.com/2023/05/09/us/california-reparations-efforts.html',\n",
       " 'https://www.nytimes.com/2023/05/09/us/politics/feinstein-returns-senate.html',\n",
       " 'https://www.nytimes.com/2023/05/09/world/asia/imran-khan-arrest-pakistan.html',\n",
       " 'https://www.nytimes.com/2023/05/09/world/europe/turkey-election-erdogan.html',\n",
       " 'https://www.nytimes.com/2023/05/09/us/politics/clarence-thomas-harlan-crow-senate-democrats.html',\n",
       " 'https://www.nytimes.com/2023/05/05/dining/saltfish-recipe-trinidadian-women.html',\n",
       " 'https://www.nytimes.com/2023/05/08/arts/music/rhiannon-giddens-michael-abels-pulitzer-prize-for-music-omar.html',\n",
       " 'https://www.nytimes.com/2023/05/09/arts/music/standing-on-the-corner.html',\n",
       " 'https://www.nytimes.com/2023/05/08/obituaries/james-sakoda-overlooked.html',\n",
       " 'https://www.nytimes.com/2023/05/08/sports/baseball/vida-blue-oakland-athletics.html',\n",
       " 'https://theathletic.com/',\n",
       " 'https://theathletic.com/4501492/2023/05/09/jordan-poole-warriors-lakers-game-4/',\n",
       " 'https://theathletic.com/4503070/2023/05/09/bob-huggins-west-virginia-homophobic-slur/',\n",
       " 'https://theathletic.com/4501085/2023/05/09/chicago-blackhawks-nhl-draft-lottery-connor-bedard/',\n",
       " 'https://theathletic.com/4500971/2023/05/09/nhl-draft-lottery-chicago-blackhawks-connor-bedard/',\n",
       " 'https://theathletic.com/4499279/2023/05/09/pj-tucker-joel-embiid-message-76ers/',\n",
       " 'https://theathletic.com/4495811/2023/05/08/leeds-united-manager-sacking-ownership-inside-story/',\n",
       " 'https://cooking.nytimes.com/',\n",
       " 'https://www.nytimes.com/wirecutter/',\n",
       " 'https://www.nytimes.com/games/wordle/index.html',\n",
       " 'https://www.nytimes.com/2023/05/09/crosswords/wordle-review-answer-689.html',\n",
       " 'https://www.nytimes.com/puzzles/spelling-bee',\n",
       " 'https://www.nytimes.com/crosswords',\n",
       " 'https://www.nytimes.com/puzzles/tiles',\n",
       " 'https://www.nytimes.com/puzzles/letter-boxed']"
      ]
     },
     "execution_count": 25,
     "metadata": {},
     "output_type": "execute_result"
    }
   ],
   "source": [
    "links_list"
   ]
  },
  {
   "cell_type": "code",
   "execution_count": 34,
   "id": "2b763af3",
   "metadata": {},
   "outputs": [
    {
     "data": {
      "text/plain": [
       "'https://www.nytimes.com/live/2023/05/09/us/debt-ceiling-biden-mccarthy'"
      ]
     },
     "execution_count": 34,
     "metadata": {},
     "output_type": "execute_result"
    }
   ],
   "source": [
    "links_list[0]"
   ]
  },
  {
   "cell_type": "code",
   "execution_count": 35,
   "id": "98b343e4",
   "metadata": {},
   "outputs": [
    {
     "data": {
      "text/plain": [
       "<Response [403]>"
      ]
     },
     "execution_count": 35,
     "metadata": {},
     "output_type": "execute_result"
    }
   ],
   "source": [
    "url = links_list[0]\n",
    "\n",
    "response = requests.get(url)\n",
    "response"
   ]
  },
  {
   "cell_type": "code",
   "execution_count": null,
   "id": "a8b19456",
   "metadata": {},
   "outputs": [],
   "source": []
  }
 ],
 "metadata": {
  "kernelspec": {
   "display_name": "Python 3 (ipykernel)",
   "language": "python",
   "name": "python3"
  },
  "language_info": {
   "codemirror_mode": {
    "name": "ipython",
    "version": 3
   },
   "file_extension": ".py",
   "mimetype": "text/x-python",
   "name": "python",
   "nbconvert_exporter": "python",
   "pygments_lexer": "ipython3",
   "version": "3.9.13"
  }
 },
 "nbformat": 4,
 "nbformat_minor": 5
}
